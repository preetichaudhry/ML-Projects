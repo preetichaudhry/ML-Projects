{
 "cells": [
  {
   "cell_type": "markdown",
   "metadata": {
    "id": "tojRtLYC_BKS"
   },
   "source": [
    "<p style=\"font-family: Arial; font-size:3em;color:green; font-style:bold\"><br>\n",
    "BCIS5110 Exam 2 - Fall 2022\n",
    "</p><br>\n",
    "5 points for each sub-question."
   ]
  },
  {
   "cell_type": "code",
   "execution_count": 48,
   "metadata": {
    "id": "feLY0UDk_BKY"
   },
   "outputs": [],
   "source": [
    "from IPython.core.interactiveshell import InteractiveShell\n",
    "InteractiveShell.ast_node_interactivity = \"all\""
   ]
  },
  {
   "cell_type": "code",
   "execution_count": 49,
   "metadata": {
    "id": "bZzigvq7_BKa"
   },
   "outputs": [],
   "source": [
    "# Import packages\n",
    "import pandas as pd\n",
    "import numpy as np"
   ]
  },
  {
   "cell_type": "markdown",
   "metadata": {
    "id": "auWsgHKI_BKa"
   },
   "source": [
    "#### Question 1 <br>\n",
    "<p>Import 'COVIDDeath.csv'. The data contains information about deaths involving coronavirus disease 2019 (COVID-19) and pneumonia reported to NCHS by place of death, age, state, for each month from 1/1/2020 to 4/17/2021.</p>"
   ]
  },
  {
   "cell_type": "code",
   "execution_count": 50,
   "metadata": {
    "id": "gqmxEZ52_BKb",
    "scrolled": true
   },
   "outputs": [],
   "source": [
    "covid_data=pd.read_csv('COVIDDeath.csv')"
   ]
  },
  {
   "cell_type": "markdown",
   "metadata": {
    "id": "5BwDcWra_BKc"
   },
   "source": [
    "1). Check the unique values for State, Place of Death, Age Group and End Date."
   ]
  },
  {
   "cell_type": "code",
   "execution_count": 51,
   "metadata": {
    "colab": {
     "base_uri": "https://localhost:8080/"
    },
    "id": "QfT3WrPc_BKc",
    "outputId": "358dc4db-bde4-4972-e30d-ba0c14ca58a2"
   },
   "outputs": [
    {
     "name": "stdout",
     "output_type": "stream",
     "text": [
      "unique values of State:\n",
      "['Alabama' 'Alaska' 'Arizona' 'Arkansas' 'California' 'Colorado'\n",
      " 'Connecticut' 'Delaware' 'District of Columbia' 'Florida' 'Georgia'\n",
      " 'Hawaii' 'Idaho' 'Illinois' 'Indiana' 'Iowa' 'Kansas' 'Kentucky'\n",
      " 'Louisiana' 'Maine' 'Maryland' 'Massachusetts' 'Michigan' 'Minnesota'\n",
      " 'Mississippi' 'Missouri' 'Montana' 'Nebraska' 'Nevada' 'New Hampshire'\n",
      " 'New Jersey' 'New Mexico' 'New York' 'New York City' 'North Carolina'\n",
      " 'North Dakota' 'Ohio' 'Oklahoma' 'Oregon' 'Pennsylvania' 'Rhode Island'\n",
      " 'South Carolina' 'South Dakota' 'Tennessee' 'Texas' 'Utah' 'Vermont'\n",
      " 'Virginia' 'Washington' 'West Virginia' 'Wisconsin' 'Wyoming'\n",
      " 'Puerto Rico']\n",
      "unique values of Place Of Death:\n",
      "['Healthcare setting, inpatient'\n",
      " 'Healthcare setting, outpatient or emergency room'\n",
      " 'Healthcare setting, dead on arrival' \"Decedent's home\"\n",
      " 'Hospice facility' 'Nursing home/long term care facility' 'Other'\n",
      " 'Place of death unknown']\n",
      "unique values of Age group:\n",
      "['0-17 years' '18-29 years' '30-39 years' '40-49 years' '50-64 years'\n",
      " '65-74 years' '75-84 years' '85 years and over']\n",
      "unique values of End Date:\n",
      "['1/31/2020' '2/29/2020' '3/31/2020' '4/30/2020' '5/31/2020' '6/30/2020'\n",
      " '7/31/2020' '8/31/2020' '9/30/2020' '10/31/2020' '11/30/2020'\n",
      " '12/31/2020' '1/31/2021' '2/28/2021' '3/31/2021' '4/17/2021']\n"
     ]
    }
   ],
   "source": [
    "print(\"unique values of State:\")\n",
    "print(covid_data.State.unique())\n",
    "print(\"unique values of Place Of Death:\")\n",
    "print(covid_data['Place of Death'].unique())\n",
    "print(\"unique values of Age group:\")\n",
    "print(covid_data['Age group'].unique())\n",
    "print(\"unique values of End Date:\")\n",
    "print(covid_data['End Date'].unique())"
   ]
  },
  {
   "cell_type": "markdown",
   "metadata": {
    "id": "YWC-wDKN_BKd"
   },
   "source": [
    "2). Sum the number of COVID deaths by each state and make a bar graph to show. Which state has the highest number of deaths? Which second? Hint: you can call .plot(kind = 'bar') directly after the results from groupby-sum. Same for other similar questions."
   ]
  },
  {
   "cell_type": "code",
   "execution_count": 52,
   "metadata": {
    "id": "ob0gtiiU_BKe"
   },
   "outputs": [],
   "source": [
    "covid_data_df=covid_data.groupby(['State'])['COVID-19 Deaths'].sum().reset_index().sort_values(by='COVID-19 Deaths',ascending=False)"
   ]
  },
  {
   "cell_type": "code",
   "execution_count": 53,
   "metadata": {
    "colab": {
     "base_uri": "https://localhost:8080/",
     "height": 1000
    },
    "id": "-0bqnR1JApSM",
    "outputId": "55ab009b-382b-4e95-cc7c-664db3dc706c"
   },
   "outputs": [
    {
     "data": {
      "text/plain": [
       "<BarContainer object of 53 artists>"
      ]
     },
     "execution_count": 53,
     "metadata": {},
     "output_type": "execute_result"
    },
    {
     "data": {
      "text/plain": [
       "([0,\n",
       "  1,\n",
       "  2,\n",
       "  3,\n",
       "  4,\n",
       "  5,\n",
       "  6,\n",
       "  7,\n",
       "  8,\n",
       "  9,\n",
       "  10,\n",
       "  11,\n",
       "  12,\n",
       "  13,\n",
       "  14,\n",
       "  15,\n",
       "  16,\n",
       "  17,\n",
       "  18,\n",
       "  19,\n",
       "  20,\n",
       "  21,\n",
       "  22,\n",
       "  23,\n",
       "  24,\n",
       "  25,\n",
       "  26,\n",
       "  27,\n",
       "  28,\n",
       "  29,\n",
       "  30,\n",
       "  31,\n",
       "  32,\n",
       "  33,\n",
       "  34,\n",
       "  35,\n",
       "  36,\n",
       "  37,\n",
       "  38,\n",
       "  39,\n",
       "  40,\n",
       "  41,\n",
       "  42,\n",
       "  43,\n",
       "  44,\n",
       "  45,\n",
       "  46,\n",
       "  47,\n",
       "  48,\n",
       "  49,\n",
       "  50,\n",
       "  51,\n",
       "  52],\n",
       " <a list of 53 Text major ticklabel objects>)"
      ]
     },
     "execution_count": 53,
     "metadata": {},
     "output_type": "execute_result"
    },
    {
     "data": {
      "image/png": "[encoded data removed]",
      "text/plain": [
       "<Figure size 432x288 with 1 Axes>"
      ]
     },
     "metadata": {
      "needs_background": "light"
     },
     "output_type": "display_data"
    }
   ],
   "source": [
    "import matplotlib.pyplot as plt\n",
    "plt.bar(covid_data_df['State'], covid_data_df['COVID-19 Deaths'], color ='maroon',\n",
    "        width = 0.4)\n",
    "plt.xticks(rotation='vertical')\n",
    "plt.show()"
   ]
  },
  {
   "cell_type": "markdown",
   "metadata": {
    "id": "k-4td0FuA9Nr"
   },
   "source": [
    "## Calfornia is having highest death rate and Florida is second. "
   ]
  },
  {
   "cell_type": "markdown",
   "metadata": {
    "id": "d6f0QBP4_BKf"
   },
   "source": [
    "3). Sum the number of COVID deaths by each Age group and make a bar graph to show. What pattern do you observe? "
   ]
  },
  {
   "cell_type": "code",
   "execution_count": 54,
   "metadata": {
    "colab": {
     "base_uri": "https://localhost:8080/",
     "height": 363
    },
    "id": "4iw2Z1_Q_BKf",
    "outputId": "14c5d736-72fd-4281-b8b9-b9fb803c7f98",
    "scrolled": true
   },
   "outputs": [
    {
     "data": {
      "text/plain": [
       "<BarContainer object of 8 artists>"
      ]
     },
     "execution_count": 54,
     "metadata": {},
     "output_type": "execute_result"
    },
    {
     "data": {
      "text/plain": [
       "([0, 1, 2, 3, 4, 5, 6, 7], <a list of 8 Text major ticklabel objects>)"
      ]
     },
     "execution_count": 54,
     "metadata": {},
     "output_type": "execute_result"
    },
    {
     "data": {
      "image/png": "[encoded data removed]",
      "text/plain": [
       "<Figure size 432x288 with 1 Axes>"
      ]
     },
     "metadata": {
      "needs_background": "light"
     },
     "output_type": "display_data"
    }
   ],
   "source": [
    "covid_data_df=covid_data.groupby(['Age group'])['COVID-19 Deaths'].sum().reset_index().sort_values(by='COVID-19 Deaths',ascending=False)\n",
    "import matplotlib.pyplot as plt\n",
    "plt.bar(covid_data_df['Age group'], covid_data_df['COVID-19 Deaths'], color ='maroon',\n",
    "        width = 0.4)\n",
    "plt.xticks(rotation='vertical')\n",
    "plt.show()"
   ]
  },
  {
   "cell_type": "markdown",
   "metadata": {
    "id": "-unRx5xqBlM8"
   },
   "source": [
    "#85 years and above are gaving highest date rate"
   ]
  },
  {
   "cell_type": "markdown",
   "metadata": {
    "id": "mLGyXsta_BKg"
   },
   "source": [
    "4) Sum the number of COVID deaths by Place of Death and make a bar graph to show. Where did most people die? Where comes the second?"
   ]
  },
  {
   "cell_type": "code",
   "execution_count": 55,
   "metadata": {
    "colab": {
     "base_uri": "https://localhost:8080/",
     "height": 363
    },
    "id": "VBma8bPU_BKg",
    "outputId": "db23c9fb-8f99-40f6-b7a7-c6c020585d9f"
   },
   "outputs": [
    {
     "data": {
      "text/plain": [
       "<BarContainer object of 8 artists>"
      ]
     },
     "execution_count": 55,
     "metadata": {},
     "output_type": "execute_result"
    },
    {
     "data": {
      "text/plain": [
       "([0, 1, 2, 3, 4, 5, 6, 7], <a list of 8 Text major ticklabel objects>)"
      ]
     },
     "execution_count": 55,
     "metadata": {},
     "output_type": "execute_result"
    },
    {
     "data": {
      "image/png": "[encoded data removed]",
      "text/plain": [
       "<Figure size 432x288 with 1 Axes>"
      ]
     },
     "metadata": {
      "needs_background": "light"
     },
     "output_type": "display_data"
    }
   ],
   "source": [
    "covid_data_df=covid_data.groupby(['Age group'])['COVID-19 Deaths'].sum().reset_index().sort_values(by='COVID-19 Deaths',ascending=False)\n",
    "import matplotlib.pyplot as plt\n",
    "plt.bar(covid_data_df['Age group'], covid_data_df['COVID-19 Deaths'], color ='maroon',\n",
    "        width = 0.4)\n",
    "plt.xticks(rotation='vertical')\n",
    "plt.show()"
   ]
  },
  {
   "cell_type": "markdown",
   "metadata": {
    "id": "wZiTP_Hf_BKg"
   },
   "source": [
    "5) Create a pivot table to sum the COVID death by \"Place of Death\" and \"Age group\"."
   ]
  },
  {
   "cell_type": "code",
   "execution_count": 56,
   "metadata": {
    "colab": {
     "base_uri": "https://localhost:8080/",
     "height": 206
    },
    "id": "RUwlFeaV_BKh",
    "outputId": "dd1226c3-5377-42bb-9ed7-8b54ff996fcf"
   },
   "outputs": [
    {
     "data": {
      "text/html": [
       "\n",
       "  <div id=\"df-338b4f45-2229-43e3-a7f4-605721a20bb7\">\n",
       "    <div class=\"colab-df-container\">\n",
       "      <div>\n",
       "<style scoped>\n",
       "    .dataframe tbody tr th:only-of-type {\n",
       "        vertical-align: middle;\n",
       "    }\n",
       "\n",
       "    .dataframe tbody tr th {\n",
       "        vertical-align: top;\n",
       "    }\n",
       "\n",
       "    .dataframe thead th {\n",
       "        text-align: right;\n",
       "    }\n",
       "</style>\n",
       "<table border=\"1\" class=\"dataframe\">\n",
       "  <thead>\n",
       "    <tr style=\"text-align: right;\">\n",
       "      <th></th>\n",
       "      <th>Place of Death</th>\n",
       "      <th>Age group</th>\n",
       "      <th>COVID-19 Deaths</th>\n",
       "    </tr>\n",
       "  </thead>\n",
       "  <tbody>\n",
       "    <tr>\n",
       "      <th>22</th>\n",
       "      <td>Healthcare setting, inpatient</td>\n",
       "      <td>75-84 years</td>\n",
       "      <td>102899.0</td>\n",
       "    </tr>\n",
       "    <tr>\n",
       "      <th>21</th>\n",
       "      <td>Healthcare setting, inpatient</td>\n",
       "      <td>65-74 years</td>\n",
       "      <td>95215.0</td>\n",
       "    </tr>\n",
       "    <tr>\n",
       "      <th>23</th>\n",
       "      <td>Healthcare setting, inpatient</td>\n",
       "      <td>85 years and over</td>\n",
       "      <td>75290.0</td>\n",
       "    </tr>\n",
       "    <tr>\n",
       "      <th>20</th>\n",
       "      <td>Healthcare setting, inpatient</td>\n",
       "      <td>50-64 years</td>\n",
       "      <td>67120.0</td>\n",
       "    </tr>\n",
       "    <tr>\n",
       "      <th>47</th>\n",
       "      <td>Nursing home/long term care facility</td>\n",
       "      <td>85 years and over</td>\n",
       "      <td>63731.0</td>\n",
       "    </tr>\n",
       "  </tbody>\n",
       "</table>\n",
       "</div>\n",
       "      <button class=\"colab-df-convert\" onclick=\"convertToInteractive('df-338b4f45-2229-43e3-a7f4-605721a20bb7')\"\n",
       "              title=\"Convert this dataframe to an interactive table.\"\n",
       "              style=\"display:none;\">\n",
       "        \n",
       "  <svg xmlns=\"http://www.w3.org/2000/svg\" height=\"24px\"viewBox=\"0 0 24 24\"\n",
       "       width=\"24px\">\n",
       "    <path d=\"M0 0h24v24H0V0z\" fill=\"none\"/>\n",
       "    <path d=\"M18.56 5.44l.94 2.06.94-2.06 2.06-.94-2.06-.94-.94-2.06-.94 2.06-2.06.94zm-11 1L8.5 8.5l.94-2.06 2.06-.94-2.06-.94L8.5 2.5l-.94 2.06-2.06.94zm10 10l.94 2.06.94-2.06 2.06-.94-2.06-.94-.94-2.06-.94 2.06-2.06.94z\"/><path d=\"M17.41 7.96l-1.37-1.37c-.4-.4-.92-.59-1.43-.59-.52 0-1.04.2-1.43.59L10.3 9.45l-7.72 7.72c-.78.78-.78 2.05 0 2.83L4 21.41c.39.39.9.59 1.41.59.51 0 1.02-.2 1.41-.59l7.78-7.78 2.81-2.81c.8-.78.8-2.07 0-2.86zM5.41 20L4 18.59l7.72-7.72 1.47 1.35L5.41 20z\"/>\n",
       "  </svg>\n",
       "      </button>\n",
       "      \n",
       "  <style>\n",
       "    .colab-df-container {\n",
       "      display:flex;\n",
       "      flex-wrap:wrap;\n",
       "      gap: 12px;\n",
       "    }\n",
       "\n",
       "    .colab-df-convert {\n",
       "      background-color: #E8F0FE;\n",
       "      border: none;\n",
       "      border-radius: 50%;\n",
       "      cursor: pointer;\n",
       "      display: none;\n",
       "      fill: #1967D2;\n",
       "      height: 32px;\n",
       "      padding: 0 0 0 0;\n",
       "      width: 32px;\n",
       "    }\n",
       "\n",
       "    .colab-df-convert:hover {\n",
       "      background-color: #E2EBFA;\n",
       "      box-shadow: 0px 1px 2px rgba(60, 64, 67, 0.3), 0px 1px 3px 1px rgba(60, 64, 67, 0.15);\n",
       "      fill: #174EA6;\n",
       "    }\n",
       "\n",
       "    [theme=dark] .colab-df-convert {\n",
       "      background-color: #3B4455;\n",
       "      fill: #D2E3FC;\n",
       "    }\n",
       "\n",
       "    [theme=dark] .colab-df-convert:hover {\n",
       "      background-color: #434B5C;\n",
       "      box-shadow: 0px 1px 3px 1px rgba(0, 0, 0, 0.15);\n",
       "      filter: drop-shadow(0px 1px 2px rgba(0, 0, 0, 0.3));\n",
       "      fill: #FFFFFF;\n",
       "    }\n",
       "  </style>\n",
       "\n",
       "      <script>\n",
       "        const buttonEl =\n",
       "          document.querySelector('#df-338b4f45-2229-43e3-a7f4-605721a20bb7 button.colab-df-convert');\n",
       "        buttonEl.style.display =\n",
       "          google.colab.kernel.accessAllowed ? 'block' : 'none';\n",
       "\n",
       "        async function convertToInteractive(key) {\n",
       "          const element = document.querySelector('#df-338b4f45-2229-43e3-a7f4-605721a20bb7');\n",
       "          const dataTable =\n",
       "            await google.colab.kernel.invokeFunction('convertToInteractive',\n",
       "                                                     [key], {});\n",
       "          if (!dataTable) return;\n",
       "\n",
       "          const docLinkHtml = 'Like what you see? Visit the ' +\n",
       "            '<a target=\"_blank\" href=https://colab.research.google.com/notebooks/data_table.ipynb>data table notebook</a>'\n",
       "            + ' to learn more about interactive tables.';\n",
       "          element.innerHTML = '';\n",
       "          dataTable['output_type'] = 'display_data';\n",
       "          await google.colab.output.renderOutput(dataTable, element);\n",
       "          const docLink = document.createElement('div');\n",
       "          docLink.innerHTML = docLinkHtml;\n",
       "          element.appendChild(docLink);\n",
       "        }\n",
       "      </script>\n",
       "    </div>\n",
       "  </div>\n",
       "  "
      ],
      "text/plain": [
       "                          Place of Death          Age group  COVID-19 Deaths\n",
       "22         Healthcare setting, inpatient        75-84 years         102899.0\n",
       "21         Healthcare setting, inpatient        65-74 years          95215.0\n",
       "23         Healthcare setting, inpatient  85 years and over          75290.0\n",
       "20         Healthcare setting, inpatient        50-64 years          67120.0\n",
       "47  Nursing home/long term care facility  85 years and over          63731.0"
      ]
     },
     "execution_count": 56,
     "metadata": {},
     "output_type": "execute_result"
    }
   ],
   "source": [
    "covid_data_df_pivot=covid_data.groupby(['Place of Death','Age group'])['COVID-19 Deaths'].sum().reset_index().sort_values(by='COVID-19 Deaths',ascending=False)\n",
    "covid_data_df_pivot.head()"
   ]
  },
  {
   "cell_type": "markdown",
   "metadata": {
    "id": "20rmPQ3-_BKh"
   },
   "source": [
    "6) Transform 'End Date' to datetime data type. Group by \"End Date\" to sum the COVID Deaths. What do you observe? Hint: you can call .plot() directly after the results from groupby-sum."
   ]
  },
  {
   "cell_type": "code",
   "execution_count": 57,
   "metadata": {
    "colab": {
     "base_uri": "https://localhost:8080/",
     "height": 471
    },
    "id": "skE_v1Ty_BKh",
    "outputId": "dd4c8341-26e9-44cd-8be0-68882680508a"
   },
   "outputs": [
    {
     "data": {
      "text/html": [
       "\n",
       "  <div id=\"df-dd5e2029-1617-46fe-86c3-6c7f495ddc97\">\n",
       "    <div class=\"colab-df-container\">\n",
       "      <div>\n",
       "<style scoped>\n",
       "    .dataframe tbody tr th:only-of-type {\n",
       "        vertical-align: middle;\n",
       "    }\n",
       "\n",
       "    .dataframe tbody tr th {\n",
       "        vertical-align: top;\n",
       "    }\n",
       "\n",
       "    .dataframe thead th {\n",
       "        text-align: right;\n",
       "    }\n",
       "</style>\n",
       "<table border=\"1\" class=\"dataframe\">\n",
       "  <thead>\n",
       "    <tr style=\"text-align: right;\">\n",
       "      <th></th>\n",
       "      <th>End Date</th>\n",
       "      <th>COVID-19 Deaths</th>\n",
       "    </tr>\n",
       "  </thead>\n",
       "  <tbody>\n",
       "    <tr>\n",
       "      <th>0</th>\n",
       "      <td>2020-01-31</td>\n",
       "      <td>0.0</td>\n",
       "    </tr>\n",
       "    <tr>\n",
       "      <th>1</th>\n",
       "      <td>2020-02-29</td>\n",
       "      <td>0.0</td>\n",
       "    </tr>\n",
       "    <tr>\n",
       "      <th>2</th>\n",
       "      <td>2020-03-31</td>\n",
       "      <td>5800.0</td>\n",
       "    </tr>\n",
       "    <tr>\n",
       "      <th>3</th>\n",
       "      <td>2020-04-30</td>\n",
       "      <td>63016.0</td>\n",
       "    </tr>\n",
       "    <tr>\n",
       "      <th>4</th>\n",
       "      <td>2020-05-31</td>\n",
       "      <td>35663.0</td>\n",
       "    </tr>\n",
       "  </tbody>\n",
       "</table>\n",
       "</div>\n",
       "      <button class=\"colab-df-convert\" onclick=\"convertToInteractive('df-dd5e2029-1617-46fe-86c3-6c7f495ddc97')\"\n",
       "              title=\"Convert this dataframe to an interactive table.\"\n",
       "              style=\"display:none;\">\n",
       "        \n",
       "  <svg xmlns=\"http://www.w3.org/2000/svg\" height=\"24px\"viewBox=\"0 0 24 24\"\n",
       "       width=\"24px\">\n",
       "    <path d=\"M0 0h24v24H0V0z\" fill=\"none\"/>\n",
       "    <path d=\"M18.56 5.44l.94 2.06.94-2.06 2.06-.94-2.06-.94-.94-2.06-.94 2.06-2.06.94zm-11 1L8.5 8.5l.94-2.06 2.06-.94-2.06-.94L8.5 2.5l-.94 2.06-2.06.94zm10 10l.94 2.06.94-2.06 2.06-.94-2.06-.94-.94-2.06-.94 2.06-2.06.94z\"/><path d=\"M17.41 7.96l-1.37-1.37c-.4-.4-.92-.59-1.43-.59-.52 0-1.04.2-1.43.59L10.3 9.45l-7.72 7.72c-.78.78-.78 2.05 0 2.83L4 21.41c.39.39.9.59 1.41.59.51 0 1.02-.2 1.41-.59l7.78-7.78 2.81-2.81c.8-.78.8-2.07 0-2.86zM5.41 20L4 18.59l7.72-7.72 1.47 1.35L5.41 20z\"/>\n",
       "  </svg>\n",
       "      </button>\n",
       "      \n",
       "  <style>\n",
       "    .colab-df-container {\n",
       "      display:flex;\n",
       "      flex-wrap:wrap;\n",
       "      gap: 12px;\n",
       "    }\n",
       "\n",
       "    .colab-df-convert {\n",
       "      background-color: #E8F0FE;\n",
       "      border: none;\n",
       "      border-radius: 50%;\n",
       "      cursor: pointer;\n",
       "      display: none;\n",
       "      fill: #1967D2;\n",
       "      height: 32px;\n",
       "      padding: 0 0 0 0;\n",
       "      width: 32px;\n",
       "    }\n",
       "\n",
       "    .colab-df-convert:hover {\n",
       "      background-color: #E2EBFA;\n",
       "      box-shadow: 0px 1px 2px rgba(60, 64, 67, 0.3), 0px 1px 3px 1px rgba(60, 64, 67, 0.15);\n",
       "      fill: #174EA6;\n",
       "    }\n",
       "\n",
       "    [theme=dark] .colab-df-convert {\n",
       "      background-color: #3B4455;\n",
       "      fill: #D2E3FC;\n",
       "    }\n",
       "\n",
       "    [theme=dark] .colab-df-convert:hover {\n",
       "      background-color: #434B5C;\n",
       "      box-shadow: 0px 1px 3px 1px rgba(0, 0, 0, 0.15);\n",
       "      filter: drop-shadow(0px 1px 2px rgba(0, 0, 0, 0.3));\n",
       "      fill: #FFFFFF;\n",
       "    }\n",
       "  </style>\n",
       "\n",
       "      <script>\n",
       "        const buttonEl =\n",
       "          document.querySelector('#df-dd5e2029-1617-46fe-86c3-6c7f495ddc97 button.colab-df-convert');\n",
       "        buttonEl.style.display =\n",
       "          google.colab.kernel.accessAllowed ? 'block' : 'none';\n",
       "\n",
       "        async function convertToInteractive(key) {\n",
       "          const element = document.querySelector('#df-dd5e2029-1617-46fe-86c3-6c7f495ddc97');\n",
       "          const dataTable =\n",
       "            await google.colab.kernel.invokeFunction('convertToInteractive',\n",
       "                                                     [key], {});\n",
       "          if (!dataTable) return;\n",
       "\n",
       "          const docLinkHtml = 'Like what you see? Visit the ' +\n",
       "            '<a target=\"_blank\" href=https://colab.research.google.com/notebooks/data_table.ipynb>data table notebook</a>'\n",
       "            + ' to learn more about interactive tables.';\n",
       "          element.innerHTML = '';\n",
       "          dataTable['output_type'] = 'display_data';\n",
       "          await google.colab.output.renderOutput(dataTable, element);\n",
       "          const docLink = document.createElement('div');\n",
       "          docLink.innerHTML = docLinkHtml;\n",
       "          element.appendChild(docLink);\n",
       "        }\n",
       "      </script>\n",
       "    </div>\n",
       "  </div>\n",
       "  "
      ],
      "text/plain": [
       "    End Date  COVID-19 Deaths\n",
       "0 2020-01-31              0.0\n",
       "1 2020-02-29              0.0\n",
       "2 2020-03-31           5800.0\n",
       "3 2020-04-30          63016.0\n",
       "4 2020-05-31          35663.0"
      ]
     },
     "execution_count": 57,
     "metadata": {},
     "output_type": "execute_result"
    },
    {
     "data": {
      "text/plain": [
       "<matplotlib.axes._subplots.AxesSubplot at 0x7fe34ef34700>"
      ]
     },
     "execution_count": 57,
     "metadata": {},
     "output_type": "execute_result"
    },
    {
     "data": {
      "image/png": "[encoded data removed]",
      "text/plain": [
       "<Figure size 432x288 with 1 Axes>"
      ]
     },
     "metadata": {
      "needs_background": "light"
     },
     "output_type": "display_data"
    }
   ],
   "source": [
    "covid_data['End Date']=pd.to_datetime(covid_data['End Date'])\n",
    "covid_data_df=covid_data.groupby(['End Date'])['COVID-19 Deaths'].sum().reset_index()\n",
    "covid_data_df.head()\n",
    "covid_data_df['COVID-19 Deaths'].plot()\n",
    "\n",
    "# we can see as time increased the cases also increased and after sometime it became flat."
   ]
  },
  {
   "cell_type": "markdown",
   "metadata": {
    "id": "zY0FR9Mc_BKi"
   },
   "source": [
    "7). Select observations of Age group '85 years and over' and State \"Texas\". "
   ]
  },
  {
   "cell_type": "code",
   "execution_count": 58,
   "metadata": {
    "colab": {
     "base_uri": "https://localhost:8080/",
     "height": 354
    },
    "id": "7-QPmCzDN5OO",
    "outputId": "28f14138-afbc-4bb4-c918-33be9506893d"
   },
   "outputs": [
    {
     "data": {
      "text/html": [
       "\n",
       "  <div id=\"df-4966324e-0930-443d-99ed-6c2ea342c433\">\n",
       "    <div class=\"colab-df-container\">\n",
       "      <div>\n",
       "<style scoped>\n",
       "    .dataframe tbody tr th:only-of-type {\n",
       "        vertical-align: middle;\n",
       "    }\n",
       "\n",
       "    .dataframe tbody tr th {\n",
       "        vertical-align: top;\n",
       "    }\n",
       "\n",
       "    .dataframe thead th {\n",
       "        text-align: right;\n",
       "    }\n",
       "</style>\n",
       "<table border=\"1\" class=\"dataframe\">\n",
       "  <thead>\n",
       "    <tr style=\"text-align: right;\">\n",
       "      <th></th>\n",
       "      <th>Start Date</th>\n",
       "      <th>End Date</th>\n",
       "      <th>Year</th>\n",
       "      <th>Month</th>\n",
       "      <th>State</th>\n",
       "      <th>Place of Death</th>\n",
       "      <th>Age group</th>\n",
       "      <th>COVID-19 Deaths</th>\n",
       "      <th>Total Deaths</th>\n",
       "      <th>Pneumonia Deaths</th>\n",
       "      <th>Pneumonia and COVID-19 Deaths</th>\n",
       "      <th>Influenza Deaths</th>\n",
       "    </tr>\n",
       "  </thead>\n",
       "  <tbody>\n",
       "    <tr>\n",
       "      <th>0</th>\n",
       "      <td>1/1/2020</td>\n",
       "      <td>2020-01-31</td>\n",
       "      <td>2020</td>\n",
       "      <td>1</td>\n",
       "      <td>Alabama</td>\n",
       "      <td>Healthcare setting, inpatient</td>\n",
       "      <td>0-17 years</td>\n",
       "      <td>0.0</td>\n",
       "      <td>35.0</td>\n",
       "      <td>NaN</td>\n",
       "      <td>0.0</td>\n",
       "      <td>0.0</td>\n",
       "    </tr>\n",
       "    <tr>\n",
       "      <th>1</th>\n",
       "      <td>1/1/2020</td>\n",
       "      <td>2020-01-31</td>\n",
       "      <td>2020</td>\n",
       "      <td>1</td>\n",
       "      <td>Alabama</td>\n",
       "      <td>Healthcare setting, inpatient</td>\n",
       "      <td>18-29 years</td>\n",
       "      <td>0.0</td>\n",
       "      <td>14.0</td>\n",
       "      <td>0.0</td>\n",
       "      <td>0.0</td>\n",
       "      <td>0.0</td>\n",
       "    </tr>\n",
       "    <tr>\n",
       "      <th>2</th>\n",
       "      <td>1/1/2020</td>\n",
       "      <td>2020-01-31</td>\n",
       "      <td>2020</td>\n",
       "      <td>1</td>\n",
       "      <td>Alabama</td>\n",
       "      <td>Healthcare setting, inpatient</td>\n",
       "      <td>30-39 years</td>\n",
       "      <td>0.0</td>\n",
       "      <td>25.0</td>\n",
       "      <td>NaN</td>\n",
       "      <td>0.0</td>\n",
       "      <td>NaN</td>\n",
       "    </tr>\n",
       "    <tr>\n",
       "      <th>3</th>\n",
       "      <td>1/1/2020</td>\n",
       "      <td>2020-01-31</td>\n",
       "      <td>2020</td>\n",
       "      <td>1</td>\n",
       "      <td>Alabama</td>\n",
       "      <td>Healthcare setting, inpatient</td>\n",
       "      <td>40-49 years</td>\n",
       "      <td>0.0</td>\n",
       "      <td>71.0</td>\n",
       "      <td>NaN</td>\n",
       "      <td>0.0</td>\n",
       "      <td>NaN</td>\n",
       "    </tr>\n",
       "    <tr>\n",
       "      <th>4</th>\n",
       "      <td>1/1/2020</td>\n",
       "      <td>2020-01-31</td>\n",
       "      <td>2020</td>\n",
       "      <td>1</td>\n",
       "      <td>Alabama</td>\n",
       "      <td>Healthcare setting, inpatient</td>\n",
       "      <td>50-64 years</td>\n",
       "      <td>0.0</td>\n",
       "      <td>295.0</td>\n",
       "      <td>44.0</td>\n",
       "      <td>0.0</td>\n",
       "      <td>NaN</td>\n",
       "    </tr>\n",
       "  </tbody>\n",
       "</table>\n",
       "</div>\n",
       "      <button class=\"colab-df-convert\" onclick=\"convertToInteractive('df-4966324e-0930-443d-99ed-6c2ea342c433')\"\n",
       "              title=\"Convert this dataframe to an interactive table.\"\n",
       "              style=\"display:none;\">\n",
       "        \n",
       "  <svg xmlns=\"http://www.w3.org/2000/svg\" height=\"24px\"viewBox=\"0 0 24 24\"\n",
       "       width=\"24px\">\n",
       "    <path d=\"M0 0h24v24H0V0z\" fill=\"none\"/>\n",
       "    <path d=\"M18.56 5.44l.94 2.06.94-2.06 2.06-.94-2.06-.94-.94-2.06-.94 2.06-2.06.94zm-11 1L8.5 8.5l.94-2.06 2.06-.94-2.06-.94L8.5 2.5l-.94 2.06-2.06.94zm10 10l.94 2.06.94-2.06 2.06-.94-2.06-.94-.94-2.06-.94 2.06-2.06.94z\"/><path d=\"M17.41 7.96l-1.37-1.37c-.4-.4-.92-.59-1.43-.59-.52 0-1.04.2-1.43.59L10.3 9.45l-7.72 7.72c-.78.78-.78 2.05 0 2.83L4 21.41c.39.39.9.59 1.41.59.51 0 1.02-.2 1.41-.59l7.78-7.78 2.81-2.81c.8-.78.8-2.07 0-2.86zM5.41 20L4 18.59l7.72-7.72 1.47 1.35L5.41 20z\"/>\n",
       "  </svg>\n",
       "      </button>\n",
       "      \n",
       "  <style>\n",
       "    .colab-df-container {\n",
       "      display:flex;\n",
       "      flex-wrap:wrap;\n",
       "      gap: 12px;\n",
       "    }\n",
       "\n",
       "    .colab-df-convert {\n",
       "      background-color: #E8F0FE;\n",
       "      border: none;\n",
       "      border-radius: 50%;\n",
       "      cursor: pointer;\n",
       "      display: none;\n",
       "      fill: #1967D2;\n",
       "      height: 32px;\n",
       "      padding: 0 0 0 0;\n",
       "      width: 32px;\n",
       "    }\n",
       "\n",
       "    .colab-df-convert:hover {\n",
       "      background-color: #E2EBFA;\n",
       "      box-shadow: 0px 1px 2px rgba(60, 64, 67, 0.3), 0px 1px 3px 1px rgba(60, 64, 67, 0.15);\n",
       "      fill: #174EA6;\n",
       "    }\n",
       "\n",
       "    [theme=dark] .colab-df-convert {\n",
       "      background-color: #3B4455;\n",
       "      fill: #D2E3FC;\n",
       "    }\n",
       "\n",
       "    [theme=dark] .colab-df-convert:hover {\n",
       "      background-color: #434B5C;\n",
       "      box-shadow: 0px 1px 3px 1px rgba(0, 0, 0, 0.15);\n",
       "      filter: drop-shadow(0px 1px 2px rgba(0, 0, 0, 0.3));\n",
       "      fill: #FFFFFF;\n",
       "    }\n",
       "  </style>\n",
       "\n",
       "      <script>\n",
       "        const buttonEl =\n",
       "          document.querySelector('#df-4966324e-0930-443d-99ed-6c2ea342c433 button.colab-df-convert');\n",
       "        buttonEl.style.display =\n",
       "          google.colab.kernel.accessAllowed ? 'block' : 'none';\n",
       "\n",
       "        async function convertToInteractive(key) {\n",
       "          const element = document.querySelector('#df-4966324e-0930-443d-99ed-6c2ea342c433');\n",
       "          const dataTable =\n",
       "            await google.colab.kernel.invokeFunction('convertToInteractive',\n",
       "                                                     [key], {});\n",
       "          if (!dataTable) return;\n",
       "\n",
       "          const docLinkHtml = 'Like what you see? Visit the ' +\n",
       "            '<a target=\"_blank\" href=https://colab.research.google.com/notebooks/data_table.ipynb>data table notebook</a>'\n",
       "            + ' to learn more about interactive tables.';\n",
       "          element.innerHTML = '';\n",
       "          dataTable['output_type'] = 'display_data';\n",
       "          await google.colab.output.renderOutput(dataTable, element);\n",
       "          const docLink = document.createElement('div');\n",
       "          docLink.innerHTML = docLinkHtml;\n",
       "          element.appendChild(docLink);\n",
       "        }\n",
       "      </script>\n",
       "    </div>\n",
       "  </div>\n",
       "  "
      ],
      "text/plain": [
       "  Start Date   End Date  Year  Month    State                 Place of Death  \\\n",
       "0   1/1/2020 2020-01-31  2020      1  Alabama  Healthcare setting, inpatient   \n",
       "1   1/1/2020 2020-01-31  2020      1  Alabama  Healthcare setting, inpatient   \n",
       "2   1/1/2020 2020-01-31  2020      1  Alabama  Healthcare setting, inpatient   \n",
       "3   1/1/2020 2020-01-31  2020      1  Alabama  Healthcare setting, inpatient   \n",
       "4   1/1/2020 2020-01-31  2020      1  Alabama  Healthcare setting, inpatient   \n",
       "\n",
       "     Age group  COVID-19 Deaths  Total Deaths  Pneumonia Deaths  \\\n",
       "0   0-17 years              0.0          35.0               NaN   \n",
       "1  18-29 years              0.0          14.0               0.0   \n",
       "2  30-39 years              0.0          25.0               NaN   \n",
       "3  40-49 years              0.0          71.0               NaN   \n",
       "4  50-64 years              0.0         295.0              44.0   \n",
       "\n",
       "   Pneumonia and COVID-19 Deaths  Influenza Deaths  \n",
       "0                            0.0               0.0  \n",
       "1                            0.0               0.0  \n",
       "2                            0.0               NaN  \n",
       "3                            0.0               NaN  \n",
       "4                            0.0               NaN  "
      ]
     },
     "execution_count": 58,
     "metadata": {},
     "output_type": "execute_result"
    }
   ],
   "source": [
    "covid_data.head()"
   ]
  },
  {
   "cell_type": "code",
   "execution_count": 59,
   "metadata": {
    "colab": {
     "base_uri": "https://localhost:8080/"
    },
    "id": "Ekiev1feOJFr",
    "outputId": "34c70bc3-cc22-48d3-aab0-9d426bef2056"
   },
   "outputs": [
    {
     "data": {
      "text/plain": [
       "array(['Alabama', 'Alaska', 'Arizona', 'Arkansas', 'California',\n",
       "       'Colorado', 'Connecticut', 'Delaware', 'District of Columbia',\n",
       "       'Florida', 'Georgia', 'Hawaii', 'Idaho', 'Illinois', 'Indiana',\n",
       "       'Iowa', 'Kansas', 'Kentucky', 'Louisiana', 'Maine', 'Maryland',\n",
       "       'Massachusetts', 'Michigan', 'Minnesota', 'Mississippi',\n",
       "       'Missouri', 'Montana', 'Nebraska', 'Nevada', 'New Hampshire',\n",
       "       'New Jersey', 'New Mexico', 'New York', 'New York City',\n",
       "       'North Carolina', 'North Dakota', 'Ohio', 'Oklahoma', 'Oregon',\n",
       "       'Pennsylvania', 'Rhode Island', 'South Carolina', 'South Dakota',\n",
       "       'Tennessee', 'Texas', 'Utah', 'Vermont', 'Virginia', 'Washington',\n",
       "       'West Virginia', 'Wisconsin', 'Wyoming', 'Puerto Rico'],\n",
       "      dtype=object)"
      ]
     },
     "execution_count": 59,
     "metadata": {},
     "output_type": "execute_result"
    }
   ],
   "source": [
    "covid_data.State.unique()"
   ]
  },
  {
   "cell_type": "code",
   "execution_count": 60,
   "metadata": {
    "id": "NIjCbIQ1_BKi",
    "scrolled": false
   },
   "outputs": [],
   "source": [
    "covid_data_subset=covid_data[(covid_data['Age group']=='85 years and over')]"
   ]
  },
  {
   "cell_type": "markdown",
   "metadata": {
    "id": "KTCpKFkU_BKi"
   },
   "source": [
    "8) Use the subset from previous step. Group by \"End Date\"; Sum the number of COVID deaths and Pneumonia deaths. Save the results to a variable."
   ]
  },
  {
   "cell_type": "code",
   "execution_count": 61,
   "metadata": {
    "colab": {
     "base_uri": "https://localhost:8080/"
    },
    "id": "lY4p8X84_BKj",
    "outputId": "c7e1c13b-117b-42ee-c6d6-dc69ef3ee834",
    "scrolled": true
   },
   "outputs": [
    {
     "name": "stderr",
     "output_type": "stream",
     "text": [
      "<ipython-input-61-e09af517455f>:1: FutureWarning: Indexing with multiple keys (implicitly converted to a tuple of keys) will be deprecated, use a list instead.\n",
      "  covid_data_subset_pivot=covid_data_subset.groupby('End Date')['COVID-19 Deaths','Pneumonia and COVID-19 Deaths'].sum().reset_index()\n"
     ]
    }
   ],
   "source": [
    "covid_data_subset_pivot=covid_data_subset.groupby('End Date')['COVID-19 Deaths','Pneumonia and COVID-19 Deaths'].sum().reset_index()"
   ]
  },
  {
   "cell_type": "markdown",
   "metadata": {
    "id": "aa7DOyaX_BKj"
   },
   "source": [
    "9) Use the saved results from previous step to create a scatterplot. 'Pneumonia Deaths' as X and \"COVID-19 Deaths\" as Y. Is there any correlation between the two?"
   ]
  },
  {
   "cell_type": "code",
   "execution_count": 62,
   "metadata": {
    "colab": {
     "base_uri": "https://localhost:8080/",
     "height": 282
    },
    "id": "hwTWo-D6_BKj",
    "outputId": "d3029fb8-a56b-4057-b432-9932526d073d"
   },
   "outputs": [
    {
     "data": {
      "text/plain": [
       "<matplotlib.collections.PathCollection at 0x7fe34eea87f0>"
      ]
     },
     "execution_count": 62,
     "metadata": {},
     "output_type": "execute_result"
    },
    {
     "data": {
      "image/png": "[encoded data removed]",
      "text/plain": [
       "<Figure size 432x288 with 1 Axes>"
      ]
     },
     "metadata": {
      "needs_background": "light"
     },
     "output_type": "display_data"
    }
   ],
   "source": [
    "plt.scatter(covid_data_subset_pivot['COVID-19 Deaths'],covid_data_subset_pivot['Pneumonia and COVID-19 Deaths'])\n"
   ]
  },
  {
   "cell_type": "markdown",
   "metadata": {
    "id": "TzlesNJn_BKj"
   },
   "source": [
    "#### Question 2"
   ]
  },
  {
   "cell_type": "markdown",
   "metadata": {
    "id": "cj4Z19VP_BKk"
   },
   "source": [
    "Import two data tables: InjuryRecord.csv and PlayList.csv. The dataset is about NFL player injuries."
   ]
  },
  {
   "cell_type": "code",
   "execution_count": 47,
   "metadata": {
    "id": "kd5LdkK7_BKk"
   },
   "outputs": [],
   "source": [
    "injury_data=pd.read_csv('InjuryRecord.csv')\n",
    "playlist_data=pd.read_csv('PlayList.csv')"
   ]
  },
  {
   "cell_type": "markdown",
   "metadata": {
    "id": "DKPfpfp2_BKk"
   },
   "source": [
    "1) Check the basic information of the two tables. How many observations for each table?"
   ]
  },
  {
   "cell_type": "code",
   "execution_count": 63,
   "metadata": {
    "colab": {
     "base_uri": "https://localhost:8080/"
    },
    "id": "qW2TP594_BKk",
    "outputId": "e8eae2d8-5446-459b-d61b-2473bc3d3dc0"
   },
   "outputs": [
    {
     "name": "stdout",
     "output_type": "stream",
     "text": [
      "basic info of injury data:\n",
      "(105, 9)\n",
      "basic info of playlist:\n",
      "(267005, 14)\n"
     ]
    }
   ],
   "source": [
    "print(\"basic info of injury data:\")\n",
    "print(injury_data.shape)\n",
    "\n",
    "print(\"basic info of playlist:\")\n",
    "print(playlist_data.shape)"
   ]
  },
  {
   "cell_type": "markdown",
   "metadata": {
    "id": "M1XeKB6J_BKl"
   },
   "source": [
    "2) How many missing values for each variable?"
   ]
  },
  {
   "cell_type": "code",
   "execution_count": 65,
   "metadata": {
    "colab": {
     "base_uri": "https://localhost:8080/"
    },
    "id": "oasaX0W9_BKl",
    "outputId": "3735fe21-e1de-484b-a1ca-959e99a96c7c"
   },
   "outputs": [
    {
     "name": "stdout",
     "output_type": "stream",
     "text": [
      "missing value of injury data:\n",
      "PlayerKey     0\n",
      "GameID        0\n",
      "PlayKey      28\n",
      "BodyPart      0\n",
      "Surface       0\n",
      "DM_M1         0\n",
      "DM_M7         0\n",
      "DM_M28        0\n",
      "DM_M42        0\n",
      "dtype: int64\n",
      "missing value of playlist:\n",
      "PlayerKey             0\n",
      "GameID                0\n",
      "PlayKey               0\n",
      "RosterPosition        0\n",
      "PlayerDay             0\n",
      "PlayerGame            0\n",
      "StadiumType       16910\n",
      "FieldType             0\n",
      "Temperature           0\n",
      "Weather           18691\n",
      "PlayType            367\n",
      "PlayerGamePlay        0\n",
      "Position              0\n",
      "PositionGroup         0\n",
      "dtype: int64\n"
     ]
    }
   ],
   "source": [
    "print(\"missing value of injury data:\")\n",
    "print(injury_data.isna().sum())\n",
    "\n",
    "print(\"missing value of playlist:\")\n",
    "print(playlist_data.isna().sum())"
   ]
  },
  {
   "cell_type": "markdown",
   "metadata": {
    "id": "T8RO8sYB_BKl"
   },
   "source": [
    "3) Drop two variables from PlayList table: 'PlayerDay' and 'PlayerGame'."
   ]
  },
  {
   "cell_type": "code",
   "execution_count": 68,
   "metadata": {
    "id": "5bM2oaR5_BKl"
   },
   "outputs": [],
   "source": [
    "playlist_data.drop(columns=['PlayerDay','PlayerGame'],inplace=True)"
   ]
  },
  {
   "cell_type": "markdown",
   "metadata": {
    "id": "wNlBeuhv_BKm"
   },
   "source": [
    "4) Check the unique values of 'PositionGroup'. What do you observe? Count the number of records with 'Missing Data'."
   ]
  },
  {
   "cell_type": "code",
   "execution_count": 72,
   "metadata": {
    "colab": {
     "base_uri": "https://localhost:8080/"
    },
    "id": "j5fGuRF__BKm",
    "outputId": "01f463e2-0523-4e16-d72d-1f6744a7063a"
   },
   "outputs": [
    {
     "name": "stdout",
     "output_type": "stream",
     "text": [
      "['QB' 'Missing Data' 'WR' 'LB' 'RB' 'DL' 'TE' 'DB' 'OL' 'SPEC']\n",
      "0\n"
     ]
    }
   ],
   "source": [
    "print(playlist_data['PositionGroup'].unique())\n",
    "print(playlist_data['PositionGroup'].isna().sum())\n",
    "\n",
    "# there is zero records with missing data"
   ]
  },
  {
   "cell_type": "markdown",
   "metadata": {
    "id": "BoeKYcNm_BKm"
   },
   "source": [
    "5) We need to replace 'Missing data' with missing value sign. Hint: use .replace(), not str.replace(). Missing value is represented with np.nan. np is Numpy."
   ]
  },
  {
   "cell_type": "code",
   "execution_count": 75,
   "metadata": {
    "id": "GFfN2Ik1_BKm"
   },
   "outputs": [],
   "source": [
    "playlist_data['PositionGroup']=playlist_data['PositionGroup'].replace('Missing data',np.nan)"
   ]
  },
  {
   "cell_type": "markdown",
   "metadata": {
    "id": "7rwxXVeR_BKm"
   },
   "source": [
    "6) Check the unique values of Temperature. We need to replace -999 with missing value sign too."
   ]
  },
  {
   "cell_type": "code",
   "execution_count": 76,
   "metadata": {
    "colab": {
     "base_uri": "https://localhost:8080/"
    },
    "id": "n-m52kCI_BKn",
    "outputId": "ef43839a-991c-4319-a33a-54dc199dd64e"
   },
   "outputs": [
    {
     "name": "stdout",
     "output_type": "stream",
     "text": [
      "[  63   85   84   61   76   73   56   62   48   66   47   55   42   35\n",
      "   13   97   68   65   45   44   46   40   54   53   82   33   70   52\n",
      "   79   57   72   69 -999   67   71   86   90   77   39   78   60   50\n",
      "   43   74   34   89   23   92   75   81   36   88   49   80   22   87\n",
      "   58   16   51   64   83   41   29   19   91   38   25   17   28   10\n",
      "   37   31   11   32    9   59   24   27   26]\n"
     ]
    }
   ],
   "source": [
    "print(playlist_data['Temperature'].unique())\n",
    "\n",
    "playlist_data['Temperature']=playlist_data['Temperature'].replace(-999,np.nan)"
   ]
  },
  {
   "cell_type": "markdown",
   "metadata": {
    "id": "Qf9HtNm6_BKn"
   },
   "source": [
    "7) Merge the two tables using inner merge on 'PlayerKey', 'GameID', and 'PlayKey'."
   ]
  },
  {
   "cell_type": "code",
   "execution_count": 79,
   "metadata": {
    "id": "REKh1s9q_BKn"
   },
   "outputs": [],
   "source": [
    "merged_data=pd.merge(playlist_data,injury_data, on=['PlayerKey', 'GameID', 'PlayKey'])"
   ]
  },
  {
   "cell_type": "markdown",
   "metadata": {
    "id": "Wzln0nIf_BKo"
   },
   "source": [
    "8) The analysis from now on is based on the merged table. Make a bar chart to show the number of injuries in each BodyPart."
   ]
  },
  {
   "cell_type": "code",
   "execution_count": 81,
   "metadata": {
    "colab": {
     "base_uri": "https://localhost:8080/"
    },
    "id": "iqqrPa6W_BKo",
    "outputId": "5d00de79-b7d6-48d2-f1e5-7345239480ec"
   },
   "outputs": [
    {
     "data": {
      "text/plain": [
       "BodyPart\n",
       "Ankle    35\n",
       "Foot      6\n",
       "Knee     36\n",
       "Name: DM_M1, dtype: int64"
      ]
     },
     "execution_count": 81,
     "metadata": {},
     "output_type": "execute_result"
    }
   ],
   "source": [
    "merged_data.groupby(['BodyPart'])['DM_M1'].sum()"
   ]
  },
  {
   "cell_type": "markdown",
   "metadata": {
    "id": "wknmdS8H_BKo"
   },
   "source": [
    "9) We will classify whether the injury leads to 7 days missed (variable DM_M7) using the following variables:\n",
    "'BodyPart', 'Temperature', 'FieldType' and 'PositionGroup'. Prepare target variable and predictor variables."
   ]
  },
  {
   "cell_type": "code",
   "execution_count": 89,
   "metadata": {
    "id": "HaKFp7Rs_BKo"
   },
   "outputs": [],
   "source": [
    "merged_data=merged_data[[ 'BodyPart', 'Temperature', 'FieldType' , 'PositionGroup','DM_M7']]\n",
    "merged_data=merged_data.dropna()\n",
    "target=merged_data[[ 'DM_M7']]\n",
    "features=merged_data[[ 'BodyPart', 'Temperature', 'FieldType' , 'PositionGroup']]"
   ]
  },
  {
   "cell_type": "markdown",
   "metadata": {
    "id": "g3ZDVmFX_BKp"
   },
   "source": [
    "10) Change categorical variale 'BodyPart', 'FieldType', 'PositionGroup' to dummy variables using pd.get_dummies()"
   ]
  },
  {
   "cell_type": "code",
   "execution_count": 90,
   "metadata": {
    "id": "gwJtN4GV_BKp"
   },
   "outputs": [],
   "source": [
    "features=pd.get_dummies(features)"
   ]
  },
  {
   "cell_type": "markdown",
   "metadata": {
    "id": "RnoIQcPk_BKp"
   },
   "source": [
    "11) Generate train and test datasets"
   ]
  },
  {
   "cell_type": "code",
   "execution_count": 91,
   "metadata": {
    "id": "6ko6FjcU_BKp"
   },
   "outputs": [],
   "source": [
    "from sklearn.model_selection import train_test_split\n",
    "X_train, X_test, y_train, y_test = train_test_split( features, target, test_size=0.33, random_state=42)"
   ]
  },
  {
   "cell_type": "markdown",
   "metadata": {
    "id": "1FWC02Kh_BKp"
   },
   "source": [
    "12) Train a DecisionTreeClassifier using training dataset."
   ]
  },
  {
   "cell_type": "code",
   "execution_count": 92,
   "metadata": {
    "colab": {
     "base_uri": "https://localhost:8080/"
    },
    "id": "aTJmfGH7_BKp",
    "outputId": "74c664d3-1825-4ee7-f1ce-0658c3590afd"
   },
   "outputs": [
    {
     "data": {
      "text/plain": [
       "DecisionTreeClassifier()"
      ]
     },
     "execution_count": 92,
     "metadata": {},
     "output_type": "execute_result"
    }
   ],
   "source": [
    "from sklearn import tree\n",
    "treeClass = tree.DecisionTreeClassifier()\n",
    "treeClass.fit(X_train,y_train)"
   ]
  },
  {
   "cell_type": "markdown",
   "metadata": {
    "id": "gWNSZf4O_BKq"
   },
   "source": [
    "13) Make predictions using test dataset."
   ]
  },
  {
   "cell_type": "code",
   "execution_count": 94,
   "metadata": {
    "id": "pxUbH4Dz_BKq"
   },
   "outputs": [],
   "source": [
    "y_pred=treeClass.predict(X_test)"
   ]
  },
  {
   "cell_type": "markdown",
   "metadata": {
    "id": "oQRfO5QR_BKq"
   },
   "source": [
    "14) Calculate the accuracy score."
   ]
  },
  {
   "cell_type": "code",
   "execution_count": 95,
   "metadata": {
    "colab": {
     "base_uri": "https://localhost:8080/"
    },
    "id": "aA2e_4B7_BKq",
    "outputId": "a03d7529-7bbd-4a80-de73-afe11d83fecd"
   },
   "outputs": [
    {
     "data": {
      "text/plain": [
       "0.5416666666666666"
      ]
     },
     "execution_count": 95,
     "metadata": {},
     "output_type": "execute_result"
    }
   ],
   "source": [
    "from sklearn.metrics import accuracy_score\n",
    "accuracy_score(y_test, y_pred)"
   ]
  },
  {
   "cell_type": "code",
   "execution_count": 96,
   "metadata": {
    "id": "ClH_Ugt0krNR"
   },
   "outputs": [],
   "source": [
    "#Preeti Chaudhry\n"
   ]
  },
  {
   "cell_type": "code",
   "execution_count": null,
   "metadata": {
    "id": "tejHtCqYktbq"
   },
   "outputs": [],
   "source": []
  }
 ],
 "metadata": {
  "colab": {
   "provenance": []
  },
  "kernelspec": {
   "display_name": "Python 3 (ipykernel)",
   "language": "python",
   "name": "python3"
  },
  "language_info": {
   "codemirror_mode": {
    "name": "ipython",
    "version": 3
   },
   "file_extension": ".py",
   "mimetype": "text/x-python",
   "name": "python",
   "nbconvert_exporter": "python",
   "pygments_lexer": "ipython3",
   "version": "3.9.12"
  }
 },
 "nbformat": 4,
 "nbformat_minor": 1
}
