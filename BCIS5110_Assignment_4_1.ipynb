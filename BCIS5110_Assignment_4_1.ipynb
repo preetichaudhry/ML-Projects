{
 "cells": [
  {
   "cell_type": "markdown",
   "metadata": {
    "id": "uqZbGt9Hzceh"
   },
   "source": [
    "## BCIS5110 - Assignment 4\n",
    "Q1: 10 points; Q2: 10 points. Q3: 15 points"
   ]
  },
  {
   "cell_type": "markdown",
   "metadata": {
    "id": "EBCYGx0Czcei"
   },
   "source": [
    "1. Write a program that:<br>\n",
    "1)\tDefines a list (anything of your choice)<br>\n",
    "2)\tAsks the user to input a guess<br>\n",
    "3)\tChecks whether the user input matches any item in your pre-defined list<br>\n",
    "4)\tIf yes, prints confirmation message<br>\n",
    "5)\tIf not, asks the user to try again<br>\n",
    "6)  keeps asking until the user gets it right once<br>"
   ]
  },
  {
   "cell_type": "code",
   "execution_count": 2,
   "metadata": {
    "colab": {
     "base_uri": "https://localhost:8080/"
    },
    "id": "6MypLd6Ozcej",
    "outputId": "a7a56649-d84c-4342-edf1-b4fd49965dce"
   },
   "outputs": [
    {
     "name": "stdout",
     "output_type": "stream",
     "text": [
      "Please guess the number between 1 to 50: 45\n",
      "Your guess is wrong.Please guess the number again..\n",
      "Please guess the number between 1 to 50: 44\n",
      "Your guess is wrong.Please guess the number again..\n",
      "Please guess the number between 1 to 50: 46\n",
      "Your guess is correct.\n"
     ]
    }
   ],
   "source": [
    "items_list=[20,33,46,4,18]\n",
    "guess_number=int(input('Please guess the number between 1 to 50: '))\n",
    "while True:\n",
    "  if guess_number in items_list:\n",
    "    print(\"Your guess is correct.\")\n",
    "    break\n",
    "  else:\n",
    "    print(\"Your guess is wrong.Please guess the number again..\")\n",
    "    guess_number=int(input('Please guess the number between 1 to 50: '))"
   ]
  },
  {
   "cell_type": "markdown",
   "metadata": {
    "id": "eYyLRBXnzcej"
   },
   "source": [
    "2. In data preparation, sometimes we need to replace missing values. At this point, we can view a column as a list, e.g. [1, 0, 0, 1, 'NA', 1, 0, 'NA']. 'NA' is the indicator of missing values. <br>\n",
    "Write a program to replace 'NA' with 1. So the output will be [1, 0, 0, 1, 1, 1, 0, 1]."
   ]
  },
  {
   "cell_type": "code",
   "execution_count": 9,
   "metadata": {
    "id": "bBVTD263zcek"
   },
   "outputs": [
    {
     "name": "stdout",
     "output_type": "stream",
     "text": [
      "[1, 0, 0, 1, 1, 1, 0, 1]\n"
     ]
    }
   ],
   "source": [
    "value_list=[1, 0, 0, 1, 'NA', 1, 0, 'NA']\n",
    "for i in range(len(value_list)):\n",
    "    if value_list[i] == 'NA':\n",
    "        value_list[i] = 1\n",
    "print(value_list)"
   ]
  },
  {
   "cell_type": "code",
   "execution_count": null,
   "metadata": {
    "colab": {
     "base_uri": "https://localhost:8080/"
    },
    "id": "BMdt7VDG01j2",
    "outputId": "d9bb6aa9-a41b-4ea5-cae9-6a0c4522a412"
   },
   "outputs": [],
   "source": []
  },
  {
   "cell_type": "markdown",
   "metadata": {
    "id": "c8YOXcXJzcek"
   },
   "source": [
    "3. 1. Write a program that:<br>\n",
    "1)\tAsks the user to input a sequence of comma separated numbers, e.g., 4,6,7,454,78 (no space in between)<br>\n",
    "2)\tTransforms the input string into a list using the function split(). For example, userstr.split(',') will split the string userstr at each ',' and return a list of separated items.<br>\n",
    "3)\tChecks whether the user input is all-digit (use .isdigit() function). If yes, go to next step; if not, let the user try until they get it right.<br>\n",
    "4)\tConverts all items in the list into integer<br>\n",
    "5)\tAdds all numbers together and return the sum.<br>"
   ]
  },
  {
   "cell_type": "code",
   "execution_count": null,
   "metadata": {
    "colab": {
     "base_uri": "https://localhost:8080/"
    },
    "id": "PheS1XR4zcek",
    "outputId": "747d1bb3-d423-4765-fade-8e5bff2d3236"
   },
   "outputs": [],
   "source": [
    "input_numbers=input(\"Enter comma separated numbers:\")\n",
    "list_of_numbers=input_numbers.split(',')\n",
    "while True:\n",
    "  if all([i.isdigit() for i in list_of_numbers])==True:\n",
    "    list_of_numbers=[int(i) for i in list_of_numbers]\n",
    "    print(\"sum of all numbers is: \",sum(list_of_numbers))\n",
    "    break\n",
    "  else:\n",
    "    print(\"Enter only numbers!!\")\n",
    "    input_numbers=input(\"Enter comma separated numbers:\")\n",
    "    list_of_numbers=input_numbers.split(',')"
   ]
  },
  {
   "cell_type": "markdown",
   "metadata": {
    "id": "gdaDuePK_HWZ"
   },
   "source": [
    "Preeti Chaudhry\n",
    "\n",
    "11559290"
   ]
  },
  {
   "cell_type": "code",
   "execution_count": null,
   "metadata": {},
   "outputs": [],
   "source": []
  }
 ],
 "metadata": {
  "colab": {
   "collapsed_sections": [],
   "provenance": []
  },
  "kernelspec": {
   "display_name": "Python 3 (ipykernel)",
   "language": "python",
   "name": "python3"
  },
  "language_info": {
   "codemirror_mode": {
    "name": "ipython",
    "version": 3
   },
   "file_extension": ".py",
   "mimetype": "text/x-python",
   "name": "python",
   "nbconvert_exporter": "python",
   "pygments_lexer": "ipython3",
   "version": "3.9.12"
  }
 },
 "nbformat": 4,
 "nbformat_minor": 1
}
