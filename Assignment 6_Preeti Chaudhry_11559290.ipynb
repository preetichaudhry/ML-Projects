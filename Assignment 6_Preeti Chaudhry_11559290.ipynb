{
  "cells": [
    {
      "cell_type": "markdown",
      "metadata": {
        "id": "hz7InMS1jos-"
      },
      "source": [
        "## BCIS5110 - Assignment 6\n",
        "5 points for Q1 and Q2 each. 10 points for Q3 and Q4 each."
      ]
    },
    {
      "cell_type": "markdown",
      "metadata": {
        "id": "DqrcBy74jotB"
      },
      "source": [
        "1. We download many webpages. Webpages are written in HTML language, which uses tags to define webpage format. For example, a simple HTML page may look like this:<br>\n",
        "\\<title\\> Our first HTML page\\</title\\><br>\n",
        "\\<p\\>Hello world\\</p\\><br>\n",
        "\\<p\\>Today is a good day.\\</p\\><br>\n",
        "\\<p\\>Tomorrow may be too.\\</p\\><br>\n",
        "<br>\n",
        "Tags are marked with a set of <...>. In one project, we need to remove the tags before we process the text. <br>\n",
        "Please use regular expression to remove the tags. Do not forget to import the re module. HINT: Follow our example of sub() method. Replace with empty string."
      ]
    },
    {
      "cell_type": "code",
      "execution_count": 4,
      "metadata": {
        "colab": {
          "base_uri": "https://localhost:8080/"
        },
        "id": "w3eINNrljotB",
        "outputId": "bfd3680a-029f-4385-d6cb-ea9e7f8ca301"
      },
      "outputs": [
        {
          "output_type": "stream",
          "name": "stdout",
          "text": [
            "Our first HTML page Hello world\n"
          ]
        }
      ],
      "source": [
        "import re\n",
        "htmlText = '<title>Our first HTML page</title> <p>Hello world</p>'\n",
        "# For this example, the pattern definition we can do the following (refer to our class Notebook):\n",
        "# 1. '/' is optional\n",
        "# 2. Specify the length of words within tag <> using {n,m} to include both p and title.\n",
        "pattern='</?\\w{1,5}>'\n",
        "result = re.sub(pattern,'',htmlText)\n",
        "print(result)\n",
        "\n",
        "# The output: \"Our first HTML page Hello world\""
      ]
    },
    {
      "cell_type": "markdown",
      "metadata": {
        "id": "iQp5Kr1sjotC"
      },
      "source": [
        "2. Recent research in Finance intends to process large amount of text from SEC reports, meeting records, and social media. Extracting information about earnings per share from text is one of the focal tasks. <br>\n",
        "They may be mentioned in different terms, such as 'earnings are 0.36', 'earnings per share 1.5', 'earnings this year 0.75'. Use regular expression to extract the earnings numbers only. You do not need to evaluate whether the numbers are earnings related or not."
      ]
    },
    {
      "cell_type": "code",
      "execution_count": 6,
      "metadata": {
        "colab": {
          "base_uri": "https://localhost:8080/"
        },
        "id": "QuDAR_EZjotC",
        "outputId": "c9b5b20a-d55b-44f8-8174-71f44eaa01ec"
      },
      "outputs": [
        {
          "output_type": "stream",
          "name": "stdout",
          "text": [
            "[1.5, 1.2, 1.0]\n"
          ]
        }
      ],
      "source": [
        "import re\n",
        "earningsText = 'We are cautiously positive for next year. With earnings per share of 1.5,\\\n",
        "we beat analysts\\' forcast of earnings 1.25. Our competitors hold an average earnings of 1.0.'\n",
        "\n",
        "# The output: [1.5, 1.25, 1.0]\n",
        "earnings=re.findall(r\"\\d\\.\\d\",earningsText)#every match is a string\n",
        "earnings=[float(i) for i in earnings]#convert string to float\n",
        "print(earnings)"
      ]
    },
    {
      "cell_type": "markdown",
      "metadata": {
        "id": "pjxziRH5jotD"
      },
      "source": [
        "3. In data preparation, sometimes we need to transform variables in certain ways. For instance, there is a binary variable that indicates whether a customer has made contacts before. Because of the data collection process, the value of the variable may be 'Yes', 'yes', 'y', 'Y' or 'No', 'no', 'N', 'n'. Write a program to transform all yes-related values into 1 and no-related value into 0.<br>\n",
        "    Input: a list of values, such as ['Yes', 'yes', 'y', 'Y', 'No', 'no', 'N', 'n', 'Yes', 'n'] <br>\n",
        "    Output: [1, 1, 1, 1, 0, 0, 0, 0, 1, 0] <br>"
      ]
    },
    {
      "cell_type": "code",
      "execution_count": 7,
      "metadata": {
        "colab": {
          "base_uri": "https://localhost:8080/"
        },
        "id": "0DafFebEjotD",
        "outputId": "a6c906ba-5b61-45d1-8e1c-4c7370093542"
      },
      "outputs": [
        {
          "output_type": "stream",
          "name": "stdout",
          "text": [
            "output :  [1, 1, 1, 1, 0, 0, 0, 0, 1, 0]\n"
          ]
        }
      ],
      "source": [
        "def transform(list):\n",
        "    length=len(list)\n",
        "    for i in range(0,length):\n",
        "        if (list[i]=='Yes') or (list[i]=='yes') or (list[i]=='Y') or (list[i]=='y'):\n",
        "            list[i]=1\n",
        "        if (list[i]=='No') or (list[i]=='no') or (list[i]=='N') or (list[i]=='n'):\n",
        "            list[i]=0\n",
        "list=['Yes', 'yes', 'y', 'Y', 'No', 'no', 'N', 'n', 'Yes', 'n']\n",
        "transform(list)\n",
        "print(\"Output : \",list)"
      ]
    },
    {
      "cell_type": "markdown",
      "metadata": {
        "id": "1FE1Yqk0jotD"
      },
      "source": [
        "### 4. Write a program to generate urls of university websites <br>\n",
        "1. We have a list of universities: University of North Texas, University of Texas Arlington, Massachusetts Institue of Technologies.<br>\n",
        "2. Their URLs are similar: Taking the initials of the words in the name and combine together to get the middle part of the URL: UNT, UTA, MIT. Adding \"http://www.\" and \".edu\", we get the full URL, e.g., \"http://www.unt.edu\".<br>\n",
        "3. First, we iterate the university list to process the name of each university.<br>\n",
        "4. For each university name, we need to slice the first letter of each word (except \"of\") in its name and concatenate them together into a string. (HINT: we can turn each university name into a list of words. Then we iterate each word, slice the first letter and concatenate them together.)<br>\n",
        "5. Once we get the initial string for each university, the full URL is to concatenate it with \"http://www.\" and \".edu\".<br>"
      ]
    },
    {
      "cell_type": "code",
      "execution_count": 11,
      "metadata": {
        "id": "sjPA4VtSjotD"
      },
      "outputs": [],
      "source": [
        "universities = ['University of North Texas', 'University of Texas Arlington', 'Massachusetts Institue of Technologies']\n",
        "\n",
        "# The output:\n",
        "# ['http://www.unt.edu','http://www.uta.edu','http://www.mit.edu']"
      ]
    },
    {
      "cell_type": "code",
      "source": [
        "lst1=[]\n",
        "for i in range(len(universities)):\n",
        "    lst1.append(universities[i].split())\n",
        "for i in range(len(lst1)):\n",
        "    lst1[i].remove(\"of\")\n",
        "    for i in range(0,len(lst1)):\n",
        "      university_letter = \"\" \n",
        "      for j in lst1[i]:\n",
        "          university_letter+=str(j[0]).lower()\n",
        "      print(f\"This is your URL: http://www.{university_letter}.edu\")\n"
      ],
      "metadata": {
        "colab": {
          "base_uri": "https://localhost:8080/"
        },
        "id": "pprU4IeYm-_E",
        "outputId": "74f5ed5c-50fd-47fb-a4dd-e8b4f45cf676"
      },
      "execution_count": 12,
      "outputs": [
        {
          "output_type": "stream",
          "name": "stdout",
          "text": [
            "This is your URL: http://www.unt.edu\n",
            "This is your URL: http://www.uota.edu\n",
            "This is your URL: http://www.miot.edu\n",
            "This is your URL: http://www.unt.edu\n",
            "This is your URL: http://www.uta.edu\n",
            "This is your URL: http://www.miot.edu\n",
            "This is your URL: http://www.unt.edu\n",
            "This is your URL: http://www.uta.edu\n",
            "This is your URL: http://www.mit.edu\n"
          ]
        }
      ]
    },
    {
      "cell_type": "markdown",
      "source": [
        "Pranav Bhanu Dhatrika\n"
      ],
      "metadata": {
        "id": "Y2zXWRPBnd9_"
      }
    }
  ],
  "metadata": {
    "kernelspec": {
      "display_name": "Python 3",
      "language": "python",
      "name": "python3"
    },
    "language_info": {
      "codemirror_mode": {
        "name": "ipython",
        "version": 3
      },
      "file_extension": ".py",
      "mimetype": "text/x-python",
      "name": "python",
      "nbconvert_exporter": "python",
      "pygments_lexer": "ipython3",
      "version": "3.8.8"
    },
    "colab": {
      "provenance": [],
      "collapsed_sections": []
    }
  },
  "nbformat": 4,
  "nbformat_minor": 0
}