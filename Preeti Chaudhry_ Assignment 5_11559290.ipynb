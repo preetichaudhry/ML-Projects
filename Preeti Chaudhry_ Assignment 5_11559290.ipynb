{
 "cells": [
  {
   "cell_type": "markdown",
   "metadata": {
    "id": "s7zJNA_ysLb6"
   },
   "source": [
    "\n",
    "## BCIS5110 - Assignment 5\n",
    "Q1: 10 points; Q2: 10 points. Q3: 10 points"
   ]
  },
  {
   "cell_type": "code",
   "execution_count": null,
   "metadata": {},
   "outputs": [],
   "source": []
  },
  {
   "cell_type": "markdown",
   "metadata": {
    "id": "r_Cl0HTbsLb-"
   },
   "source": [
    "1. Recall the program we write for Q3, Assignment 4. Now we make a small improvement.<br>\n",
    "    1) Take the part of the code that checks for digits and define it as a function. If it is all-digit, the function returns True. If not, the function returns False.<br>\n",
    "    2) Use the function to rewrite the program by calling it in your code."
   ]
  },
  {
   "cell_type": "code",
   "execution_count": 2,
   "metadata": {
    "colab": {
     "base_uri": "https://localhost:8080/"
    },
    "id": "jC5jk_VNsLb_",
    "outputId": "3d4a72bf-d585-49fe-8b8c-df2bc0a88864"
   },
   "outputs": [
    {
     "name": "stdout",
     "output_type": "stream",
     "text": [
      "Enter comma separated numbers:a,1,5\n",
      "Enter only numbers!!\n",
      "Enter comma separated numbers:1,5\n",
      "sum of all numbers is:  6\n"
     ]
    }
   ],
   "source": [
    "def all_digit(list_of_numbers):\n",
    "  return all([i.isdigit() for i in list_of_numbers])\n",
    "\n",
    "input_numbers=input(\"Enter comma separated numbers:\")\n",
    "list_of_numbers=input_numbers.split(',')\n",
    "while True:  \n",
    "  if all_digit(list_of_numbers)==True:\n",
    "    list_of_numbers=[int(i) for i in list_of_numbers]\n",
    "    print(\"sum of all numbers is: \",sum(list_of_numbers))\n",
    "    break\n",
    "  else:\n",
    "    print(\"Enter only numbers!!\")\n",
    "    input_numbers=input(\"Enter comma separated numbers:\")\n",
    "    list_of_numbers=input_numbers.split(',')"
   ]
  },
  {
   "cell_type": "markdown",
   "metadata": {
    "id": "35acVlNwsLcA"
   },
   "source": [
    "2. In data preparation, sometimes we need to transform variables. For instance, software size is measured in kilobytes or megabytes, e.g., 120K or 1.2M. Assume we have such a variable “size” using this convention. <br>\n",
    "It will be recognized as a string because of the K or M at the end. As it is in essence a numerical variable, our program needs to recode it. For instance, 120K should be 120000 after the transformation. <br>\n",
    "<br>\n",
    "Write a function that transforms the input string (e.g., 120K or 20M) to the corresponding numerical value (e.g., 120000) and return it. <br>\n",
    "Hint: A string method .endswith() can help you to determine whether it is K or M. The function returns True if a string ends with the specified suffix. For example, '120k'.endswith('K') will return True. Think about how to remove the K or M before you tranform it.\n"
   ]
  },
  {
   "cell_type": "code",
   "execution_count": 6,
   "metadata": {
    "colab": {
     "base_uri": "https://localhost:8080/"
    },
    "id": "GYFFAofGsLcB",
    "outputId": "7c48a03c-80ee-40fb-adf6-c0ff13a70c79"
   },
   "outputs": [
    {
     "name": "stdout",
     "output_type": "stream",
     "text": [
      "size: 100M\n",
      "Converted size is:  100000000\n"
     ]
    }
   ],
   "source": [
    "input_size=input(\"size: \")\n",
    "\n",
    "def conversion(input_size):\n",
    "  if input_size.endswith('K'):\n",
    "    input_size=input_size.replace('K','000')\n",
    "  else:\n",
    "    input_size=input_size.replace('M','000000')\n",
    "  return int(input_size)\n",
    "\n",
    "print(\"Converted size is: \",conversion(input_size))\n",
    "\n"
   ]
  },
  {
   "cell_type": "markdown",
   "metadata": {
    "id": "7X-YuptjsLcB"
   },
   "source": [
    "3. Write a function that searches any sequence object to find a match for a given item (You may choose your own sequence, a string, a list, or a tuple, all work.) For instance, find whether a list contains a match for the string \"apple\". <br>\n",
    "\n",
    "The function takes two arguments: a sequence object and the target item, and return two values: a boolean value whether there is match and if there is, the index of the matched item. For instance,<br>\n",
    "\n",
    "input: 'apple' - sequence, 'a' - target<br>\n",
    "output: True, 0 \n",
    "\n",
    "Note: We do not need to consider algorithm efficiency."
   ]
  },
  {
   "cell_type": "code",
   "execution_count": 10,
   "metadata": {
    "colab": {
     "base_uri": "https://localhost:8080/"
    },
    "id": "OcyComjWsLcC",
    "outputId": "91597efe-7395-4b7c-fca4-9348d523387b"
   },
   "outputs": [
    {
     "data": {
      "text/plain": [
       "(True, 0)"
      ]
     },
     "execution_count": 10,
     "metadata": {},
     "output_type": "execute_result"
    }
   ],
   "source": [
    "sequence='apple'\n",
    "target='a'\n",
    "def match(sequence,target):\n",
    "  index_value=sequence.index(target)\n",
    "  if index_value!=-1:\n",
    "    return True,index_value\n",
    "  else:\n",
    "    return index_value\n",
    "\n",
    "match(sequence,'a')\n",
    "\n"
   ]
  },
  {
   "cell_type": "markdown",
   "metadata": {
    "id": "hYXhJS2OvY8r"
   },
   "source": [
    "Preeti Chaudhry \n",
    "\n",
    "11559290"
   ]
  }
 ],
 "metadata": {
  "colab": {
   "collapsed_sections": [],
   "provenance": []
  },
  "kernelspec": {
   "display_name": "Python 3 (ipykernel)",
   "language": "python",
   "name": "python3"
  },
  "language_info": {
   "codemirror_mode": {
    "name": "ipython",
    "version": 3
   },
   "file_extension": ".py",
   "mimetype": "text/x-python",
   "name": "python",
   "nbconvert_exporter": "python",
   "pygments_lexer": "ipython3",
   "version": "3.9.12"
  }
 },
 "nbformat": 4,
 "nbformat_minor": 1
}
