{
  "cells": [
    {
      "cell_type": "markdown",
      "metadata": {
        "id": "KEsJBtUBRhVl"
      },
      "source": [
        "# BCIS 5110 Assignment 1"
      ]
    },
    {
      "cell_type": "markdown",
      "metadata": {
        "id": "VE7dKUH4RhVp"
      },
      "source": [
        "## Programming practices (8 points for each step)\n",
        "The task is to calculate the sum of maximum and minimum of a list of numbers given by the user.\n",
        "We break it down to the following steps."
      ]
    },
    {
      "cell_type": "markdown",
      "metadata": {
        "id": "YLn1iBIrRhVq"
      },
      "source": [
        "### 1. Ask a user to input 5 numbers."
      ]
    },
    {
      "cell_type": "code",
      "execution_count": 11,
      "metadata": {
        "colab": {
          "base_uri": "https://localhost:8080/"
        },
        "id": "jquJCTv0RhVq",
        "outputId": "52190af0-93f7-4d18-b245-74b1014e31bc"
      },
      "outputs": [
        {
          "name": "stdout",
          "output_type": "stream",
          "text": [
            "Please enter five numbers one by one: \n",
            "Enter a number: 5\n",
            "Enter a number: 10\n",
            "Enter a number: 20\n",
            "Enter a number: 30\n",
            "Enter a number: 10\n"
          ]
        }
      ],
      "source": [
        "print(\"Please enter five numbers one by one: \")\n",
        "list_of_numbers=[]\n",
        "for i in range(5):\n",
        "  list_of_numbers.append(int(input('Enter a number: ')))"
      ]
    },
    {
      "cell_type": "markdown",
      "metadata": {
        "id": "oYbVToAJRhVr"
      },
      "source": [
        "### 2. Ask for the user's name. "
      ]
    },
    {
      "cell_type": "code",
      "execution_count": 12,
      "metadata": {
        "colab": {
          "base_uri": "https://localhost:8080/"
        },
        "id": "yNdulCE_RhVr",
        "outputId": "37df42a8-1a76-4ac3-89a1-15b5a7a9580e"
      },
      "outputs": [
        {
          "name": "stdout",
          "output_type": "stream",
          "text": [
            "Enter username: shubham\n"
          ]
        }
      ],
      "source": [
        "username= input('Enter username: ')"
      ]
    },
    {
      "cell_type": "markdown",
      "metadata": {
        "id": "ghfSL4HkRhVr"
      },
      "source": [
        "### 3. Sum the numbers together."
      ]
    },
    {
      "cell_type": "code",
      "execution_count": 13,
      "metadata": {
        "id": "M2pz57Y7RhVs"
      },
      "outputs": [],
      "source": [
        "sum_of_numbers=sum(list_of_numbers)"
      ]
    },
    {
      "cell_type": "markdown",
      "metadata": {
        "id": "kfiUdwOgRhVs"
      },
      "source": [
        "### 4. Adds the maximum and minimum numbers of the list together and print the sum (hint: use a function from the powerpoint list"
      ]
    },
    {
      "cell_type": "code",
      "execution_count": 14,
      "metadata": {
        "id": "GAShtTgoRhVt"
      },
      "outputs": [],
      "source": [
        "sum_min_max=max(list_of_numbers)+min(list_of_numbers)"
      ]
    },
    {
      "cell_type": "markdown",
      "metadata": {
        "id": "EQkiizvcRhVt"
      },
      "source": [
        "### 5. Print the user's name, the sum of the numbers, and the sum of the maximum and mininum numbers."
      ]
    },
    {
      "cell_type": "code",
      "execution_count": 15,
      "metadata": {
        "colab": {
          "base_uri": "https://localhost:8080/"
        },
        "id": "gfxNj_yBRhVt",
        "outputId": "42047fd3-5081-45d8-8596-9ca2d9361897"
      },
      "outputs": [
        {
          "output_type": "stream",
          "name": "stdout",
          "text": [
            "username is: shubham\n",
            "sum of the numbers are: 75\n",
            "sum of maximum and minimum numbers is: 35\n"
          ]
        }
      ],
      "source": [
        "print('username is:', username)\n",
        "print('sum of the numbers are:', sum(list_of_numbers))\n",
        "print(\"sum of maximum and minimum numbers is:\", sum_min_max)"
      ]
    }
  ],
  "metadata": {
    "kernelspec": {
      "display_name": "Python 3 (ipykernel)",
      "language": "python",
      "name": "python3"
    },
    "language_info": {
      "codemirror_mode": {
        "name": "ipython",
        "version": 3
      },
      "file_extension": ".py",
      "mimetype": "text/x-python",
      "name": "python",
      "nbconvert_exporter": "python",
      "pygments_lexer": "ipython3",
      "version": "3.9.12"
    },
    "colab": {
      "provenance": [],
      "collapsed_sections": []
    }
  },
  "nbformat": 4,
  "nbformat_minor": 0
}