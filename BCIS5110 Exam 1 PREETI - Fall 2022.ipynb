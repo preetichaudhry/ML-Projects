{
 "cells": [
  {
   "cell_type": "markdown",
   "metadata": {},
   "source": [
    "<p style=\"font-family: Arial; font-size:3.5em;color:green; font-style:bold\"><br>\n",
    "BCIS 5110 Exam 1</p><br>"
   ]
  },
  {
   "cell_type": "markdown",
   "metadata": {},
   "source": [
    "### Instructions\n",
    "\n",
    "The exam has three questions. Each big question is designed to accomplish a task. Each sub-question is a step to do the task. Finish them in sequence."
   ]
  },
  {
   "cell_type": "markdown",
   "metadata": {},
   "source": [
    "### Q1. Create a program to generate user email addresses\n",
    "    1. We have a list of student names: for instance ['Ling Ge', 'Jane Doe', 'John Doe', ...]\n",
    "    2. We need to assign email addresses to these students. The email is assigned this way: Taking the initials of First and Last Name, put them together. If there is already same combination of First and Last Name, e.g. Jane Doe and John Doe both are JD, then Jane Doe will be JD1@unt.edu while John Doe will be JD2@unt.edu."
   ]
  },
  {
   "cell_type": "markdown",
   "metadata": {},
   "source": [
    "1. Create a list of student names. ( 5 points)"
   ]
  },
  {
   "cell_type": "code",
   "execution_count": 1,
   "metadata": {},
   "outputs": [
    {
     "name": "stdout",
     "output_type": "stream",
     "text": [
      "['Jawahar Reddy', 'Anirudh Bussa', 'Naveen Dunnala', 'Ling Ge', 'Jai Reddy', 'Jane Doe', 'John Doe']\n"
     ]
    }
   ],
   "source": [
    "mylist=[\"Jawahar Reddy\",\"Anirudh Bussa\",\"Naveen Dunnala\",\"Ling Ge\",\"Jai Reddy\",\"Jane Doe\",\"John Doe\"]\n",
    "print(mylist)"
   ]
  },
  {
   "cell_type": "markdown",
   "metadata": {},
   "source": [
    "2. Create an empty list. Iterate the student name list from Step 1, for each student name, split it into a list. Then iterate the list we get from splitting the name, get the first letter of each item and combine them together, append it to the list we defined at the beginning of this step, and we get a list of initials, e.g. [\"LG\", \"JD\", \"JD\"] (15 points)"
   ]
  },
  {
   "cell_type": "code",
   "execution_count": 2,
   "metadata": {},
   "outputs": [
    {
     "name": "stdout",
     "output_type": "stream",
     "text": [
      "['JR', 'AB', 'ND', 'LG', 'JR', 'JD', 'JD']\n"
     ]
    }
   ],
   "source": [
    "mylist2=[]\n",
    "for i in mylist:\n",
    "    x=i.split(' ')\n",
    "    mylist2.append(x[0][0]+x[1][0])\n",
    "\n",
    "print(mylist2)"
   ]
  },
  {
   "cell_type": "markdown",
   "metadata": {},
   "source": [
    "3. Generate a list of unique names. Tips: You may create a new list. Loop the list from Step 2. If the item is not in the new list, append it. (15 points)"
   ]
  },
  {
   "cell_type": "code",
   "execution_count": 3,
   "metadata": {},
   "outputs": [
    {
     "name": "stdout",
     "output_type": "stream",
     "text": [
      "{'JR': 2, 'AB': 1, 'ND': 1, 'LG': 1, 'JD': 2}\n"
     ]
    }
   ],
   "source": [
    "mylist3 = {}\n",
    "for i in mylist2:\n",
    "    mylist3[i]=mylist2.count(i)\n",
    "print(mylist3)"
   ]
  },
  {
   "cell_type": "markdown",
   "metadata": {},
   "source": [
    "4. Add the number to each name. Create another empty list. Loop the unique list from Step 3. For each loop, first set counter i = 1. Then loop the list from Step 2. If there is a match to the unique name, append the name plus i together together and append to a new list. Update the counter i to plus one. This is a nested loop structure. The output will be [\"LG1\", \"JD1\", \"JD2\"] (Note: The steps I describe are not efficient. You may follow or you can have your own solution to generate the output.) (5 points) "
   ]
  },
  {
   "cell_type": "code",
   "execution_count": 4,
   "metadata": {},
   "outputs": [
    {
     "name": "stdout",
     "output_type": "stream",
     "text": [
      "['JR1', 'JR2', 'AB', 'ND', 'LG', 'JD1', 'JD2']\n"
     ]
    }
   ],
   "source": [
    "mylist4 = []    \n",
    "for i in mylist3:\n",
    "    if mylist3[i]>1:\n",
    "        counter=1\n",
    "           \n",
    "        while(counter <= mylist3[i]):\n",
    "            mylist4.append(i+str(counter))\n",
    "            counter+=1\n",
    "    else:\n",
    "         mylist4.append(i)\n",
    "print(mylist4)\n"
   ]
  },
  {
   "cell_type": "markdown",
   "metadata": {},
   "source": [
    "5. Finally, use list comprehension to generate the email address list by concatenating each item from the output list of Step 4 with \"@unt.edu\". (5 points)"
   ]
  },
  {
   "cell_type": "code",
   "execution_count": 5,
   "metadata": {},
   "outputs": [
    {
     "name": "stdout",
     "output_type": "stream",
     "text": [
      "['JR1@unt.edu', 'JR2@unt.edu', 'AB@unt.edu', 'ND@unt.edu', 'LG@unt.edu', 'JD1@unt.edu', 'JD2@unt.edu']\n"
     ]
    }
   ],
   "source": [
    "myemail = []\n",
    "for i in mylist4:\n",
    "    myemail.append(i+'@unt.edu')\n",
    "print(myemail)"
   ]
  },
  {
   "cell_type": "markdown",
   "metadata": {},
   "source": [
    "### Q2. Download from website and find matches."
   ]
  },
  {
   "cell_type": "markdown",
   "metadata": {},
   "source": [
    "1. Download the webpage from 'https://automatetheboringstuff.com/files/rj.txt'. Don't forget to import the requests package first. You can follow the steps in the class Notebook file to download. Save the text to a variable. (15 points)"
   ]
  },
  {
   "cell_type": "code",
   "execution_count": 6,
   "metadata": {},
   "outputs": [],
   "source": [
    "import requests\n",
    "myurl= 'https://automatetheboringstuff.com/files/rj.txt'\n",
    "y=str(requests.get(myurl,allow_redirects=True).content)"
   ]
  },
  {
   "cell_type": "markdown",
   "metadata": {},
   "source": [
    "2. Write a regex that find strings where both Romeo and Juliet's names appear and are seperated with one word. Tip: To match the pattern 'Romeo+space+word+space+Juliet'. (15 points)"
   ]
  },
  {
   "cell_type": "code",
   "execution_count": 7,
   "metadata": {},
   "outputs": [
    {
     "name": "stdout",
     "output_type": "stream",
     "text": [
      "['Romeo and Juliet', 'Romeo and Juliet', 'Romeo and Juliet', 'Romeo and Juliet', 'Romeo and Juliet']\n"
     ]
    }
   ],
   "source": [
    "import re\n",
    "x=re.findall('Romeo\\s[a-zA-Z]+\\sJuliet',y)\n",
    "print(x)"
   ]
  },
  {
   "cell_type": "markdown",
   "metadata": {},
   "source": [
    "### Q3. Data cleaning"
   ]
  },
  {
   "cell_type": "markdown",
   "metadata": {},
   "source": [
    "Take a look at the DallasShooting.csv file from Canvas. It is about shooting cases in Dallas. Check the variable 'Subjects'. It listed the subjects involved in the shooting case, such as 'Curry, James L/M', 'Vernon, Tony B/M', 'Bennett, Bobby W/M'. Afer examination, we believe 'L/M', or 'B/M' or 'W/M' mean Latino Male, Black Male or White Male, their race and gender.\n",
    "To clean this column, we need to seperate the expression from subject name and then generate information based on the expression."
   ]
  },
  {
   "cell_type": "code",
   "execution_count": 8,
   "metadata": {},
   "outputs": [],
   "source": [
    "subjects = ['Curry, James L/M', 'Vernon, Tony B/M', 'Bennett, Bobby W/M']"
   ]
  },
  {
   "cell_type": "markdown",
   "metadata": {},
   "source": [
    "1. Create a new list. Loop the list 'subjects'. For each subject, split it into a list, such as ['Curry,', 'James', 'L/M']. Append the splitted list to the new list. (15 points)"
   ]
  },
  {
   "cell_type": "code",
   "execution_count": 9,
   "metadata": {},
   "outputs": [
    {
     "name": "stdout",
     "output_type": "stream",
     "text": [
      "[['Curry,', 'James', 'L/M'], ['Vernon,', 'Tony', 'B/M'], ['Bennett,', 'Bobby', 'W/M']]\n"
     ]
    }
   ],
   "source": [
    "newlist1=[]\n",
    "for i in subjects:\n",
    "    newlist1.append(i.split(' '))\n",
    "print(newlist1)"
   ]
  },
  {
   "cell_type": "markdown",
   "metadata": {},
   "source": [
    "2. The list generated from Step 1 is a list of three sublists. First we remove the comma after the first name, like 'Curry,'. Loop the list to do that for the first name in each sublist. You can use string methods such as strip() or replace(). The output will be ['Curry', 'James', 'L/M'] (15 points)"
   ]
  },
  {
   "cell_type": "code",
   "execution_count": 10,
   "metadata": {},
   "outputs": [
    {
     "name": "stdout",
     "output_type": "stream",
     "text": [
      "[['Curry', 'James', 'L/M'], ['Vernon', 'Tony', 'B/M'], ['Bennett', 'Bobby', 'W/M']]\n"
     ]
    }
   ],
   "source": [
    "for k in newlist1:\n",
    "    k[0]=k[0].strip(',')\n",
    "print(newlist1)"
   ]
  },
  {
   "cell_type": "markdown",
   "metadata": {},
   "source": [
    "3. We replace L/M or B/M or W/M with their word meaning. Loop the list. For each sublist, check the third item and replace with corresponding word meaning. The output will be ['Curry', 'James', 'Latino/Male'] (15 points)"
   ]
  },
  {
   "cell_type": "code",
   "execution_count": 11,
   "metadata": {},
   "outputs": [
    {
     "name": "stdout",
     "output_type": "stream",
     "text": [
      "[['Curry', 'James', 'Latino/Male'], ['Vernon', 'Tony', 'Black/Male'], ['Bennett', 'Bobby', 'white/Male']]\n"
     ]
    }
   ],
   "source": [
    "mydict1={'L':'Latino','B':'Black','W':'white','M':'Male','F':'Female'}\n",
    "for i in newlist1:\n",
    "    i[2] = mydict1[i[2][0]]+ \"/\" + mydict1[i[2][2]]\n",
    "print(newlist1)"
   ]
  }
 ],
 "metadata": {
  "kernelspec": {
   "display_name": "Python 3 (ipykernel)",
   "language": "python",
   "name": "python3"
  },
  "language_info": {
   "codemirror_mode": {
    "name": "ipython",
    "version": 3
   },
   "file_extension": ".py",
   "mimetype": "text/x-python",
   "name": "python",
   "nbconvert_exporter": "python",
   "pygments_lexer": "ipython3",
   "version": "3.9.12"
  }
 },
 "nbformat": 4,
 "nbformat_minor": 4
}
