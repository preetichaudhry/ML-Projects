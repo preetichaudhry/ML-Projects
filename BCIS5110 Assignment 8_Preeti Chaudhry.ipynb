{
 "cells": [
  {
   "cell_type": "markdown",
   "metadata": {},
   "source": [
    "## BCIS5110 - Assignment 8\n",
    "\n",
    "5 points each except Q6 and Q7. 10 points each for Q6&7."
   ]
  },
  {
   "cell_type": "code",
   "execution_count": 17,
   "metadata": {},
   "outputs": [],
   "source": [
    "import pandas as pd\n",
    "import numpy as np"
   ]
  },
  {
   "cell_type": "markdown",
   "metadata": {},
   "source": [
    "### In this assignment, we start to work on Kiva datasets."
   ]
  },
  {
   "cell_type": "markdown",
   "metadata": {},
   "source": [
    "1. Read in the three tables (the original dataset you downloaded, not the sample I provided for your initial report.)"
   ]
  },
  {
   "cell_type": "code",
   "execution_count": 18,
   "metadata": {},
   "outputs": [],
   "source": [
    "loans = pd.read_csv('./kiva_ds_csv/loans.csv')\n",
    "lenders = pd.read_csv('./kiva_ds_csv/lenders.csv')\n",
    "loans_lenders = pd.read_csv('./kiva_ds_csv/loans_lenders.csv')"
   ]
  },
  {
   "cell_type": "markdown",
   "metadata": {},
   "source": [
    "2. Display the information about each dataframe."
   ]
  },
  {
   "cell_type": "code",
   "execution_count": 19,
   "metadata": {},
   "outputs": [
    {
     "name": "stdout",
     "output_type": "stream",
     "text": [
      "<class 'pandas.core.frame.DataFrame'>\n",
      "RangeIndex: 2087236 entries, 0 to 2087235\n",
      "Data columns (total 34 columns):\n",
      " #   Column                           Dtype  \n",
      "---  ------                           -----  \n",
      " 0   LOAN_ID                          int64  \n",
      " 1   LOAN_NAME                        object \n",
      " 2   ORIGINAL_LANGUAGE                object \n",
      " 3   DESCRIPTION                      object \n",
      " 4   DESCRIPTION_TRANSLATED           object \n",
      " 5   FUNDED_AMOUNT                    float64\n",
      " 6   LOAN_AMOUNT                      float64\n",
      " 7   STATUS                           object \n",
      " 8   IMAGE_ID                         float64\n",
      " 9   VIDEO_ID                         float64\n",
      " 10  ACTIVITY_NAME                    object \n",
      " 11  SECTOR_NAME                      object \n",
      " 12  LOAN_USE                         object \n",
      " 13  COUNTRY_CODE                     object \n",
      " 14  COUNTRY_NAME                     object \n",
      " 15  TOWN_NAME                        object \n",
      " 16  CURRENCY_POLICY                  object \n",
      " 17  CURRENCY_EXCHANGE_COVERAGE_RATE  float64\n",
      " 18  CURRENCY                         object \n",
      " 19  PARTNER_ID                       float64\n",
      " 20  POSTED_TIME                      object \n",
      " 21  PLANNED_EXPIRATION_TIME          object \n",
      " 22  DISBURSE_TIME                    object \n",
      " 23  RAISED_TIME                      object \n",
      " 24  LENDER_TERM                      float64\n",
      " 25  NUM_LENDERS_TOTAL                int64  \n",
      " 26  NUM_JOURNAL_ENTRIES              int64  \n",
      " 27  NUM_BULK_ENTRIES                 int64  \n",
      " 28  TAGS                             object \n",
      " 29  BORROWER_NAMES                   object \n",
      " 30  BORROWER_GENDERS                 object \n",
      " 31  BORROWER_PICTURED                object \n",
      " 32  REPAYMENT_INTERVAL               object \n",
      " 33  DISTRIBUTION_MODEL               object \n",
      "dtypes: float64(7), int64(4), object(23)\n",
      "memory usage: 541.4+ MB\n"
     ]
    }
   ],
   "source": [
    "loans.info()"
   ]
  },
  {
   "cell_type": "code",
   "execution_count": 20,
   "metadata": {},
   "outputs": [
    {
     "name": "stdout",
     "output_type": "stream",
     "text": [
      "<class 'pandas.core.frame.DataFrame'>\n",
      "RangeIndex: 1561460 entries, 0 to 1561459\n",
      "Data columns (total 14 columns):\n",
      " #   Column             Non-Null Count    Dtype  \n",
      "---  ------             --------------    -----  \n",
      " 0   PERMANENT_NAME     1561460 non-null  object \n",
      " 1   DISPLAY_NAME       1559864 non-null  object \n",
      " 2   MAIN_PIC_ID        516622 non-null   float64\n",
      " 3   CITY               545203 non-null   object \n",
      " 4   STATE              509854 non-null   object \n",
      " 5   COUNTRY_CODE       667189 non-null   object \n",
      " 6   MEMBER_SINCE       1561460 non-null  int64  \n",
      " 7   PERSONAL_URL       48738 non-null    object \n",
      " 8   OCCUPATION         337140 non-null   object \n",
      " 9   LOAN_BECAUSE       152092 non-null   object \n",
      " 10  OTHER_INFO         87785 non-null    object \n",
      " 11  LOAN_PURCHASE_NUM  1561460 non-null  int64  \n",
      " 12  INVITED_BY         415651 non-null   object \n",
      " 13  NUM_INVITED        1561460 non-null  int64  \n",
      "dtypes: float64(1), int64(3), object(10)\n",
      "memory usage: 166.8+ MB\n"
     ]
    }
   ],
   "source": [
    "lenders.info()"
   ]
  },
  {
   "cell_type": "code",
   "execution_count": 21,
   "metadata": {},
   "outputs": [
    {
     "name": "stdout",
     "output_type": "stream",
     "text": [
      "<class 'pandas.core.frame.DataFrame'>\n",
      "RangeIndex: 2034151 entries, 0 to 2034150\n",
      "Data columns (total 2 columns):\n",
      " #   Column   Dtype \n",
      "---  ------   ----- \n",
      " 0   LOAN_ID  int64 \n",
      " 1   LENDERS  object\n",
      "dtypes: int64(1), object(1)\n",
      "memory usage: 31.0+ MB\n"
     ]
    }
   ],
   "source": [
    "loans_lenders.info()"
   ]
  },
  {
   "cell_type": "markdown",
   "metadata": {},
   "source": [
    "3. Check for missing values of the loans dataframe. You can use sum() to find out the number of missing values."
   ]
  },
  {
   "cell_type": "code",
   "execution_count": 22,
   "metadata": {},
   "outputs": [
    {
     "data": {
      "text/plain": [
       "LOAN_ID                                  0\n",
       "LOAN_NAME                            50238\n",
       "ORIGINAL_LANGUAGE                    45891\n",
       "DESCRIPTION                          45926\n",
       "DESCRIPTION_TRANSLATED              455312\n",
       "FUNDED_AMOUNT                            0\n",
       "LOAN_AMOUNT                              0\n",
       "STATUS                                   0\n",
       "IMAGE_ID                             45891\n",
       "VIDEO_ID                           2086058\n",
       "ACTIVITY_NAME                            0\n",
       "SECTOR_NAME                              0\n",
       "LOAN_USE                             45914\n",
       "COUNTRY_CODE                            34\n",
       "COUNTRY_NAME                             0\n",
       "TOWN_NAME                           176356\n",
       "CURRENCY_POLICY                          0\n",
       "CURRENCY_EXCHANGE_COVERAGE_RATE     473884\n",
       "CURRENCY                                 0\n",
       "PARTNER_ID                           21175\n",
       "POSTED_TIME                              0\n",
       "PLANNED_EXPIRATION_TIME             371834\n",
       "DISBURSE_TIME                         4015\n",
       "RAISED_TIME                         102404\n",
       "LENDER_TERM                             24\n",
       "NUM_LENDERS_TOTAL                        0\n",
       "NUM_JOURNAL_ENTRIES                      0\n",
       "NUM_BULK_ENTRIES                         0\n",
       "TAGS                                943057\n",
       "BORROWER_NAMES                       50238\n",
       "BORROWER_GENDERS                     45891\n",
       "BORROWER_PICTURED                    45891\n",
       "REPAYMENT_INTERVAL                       0\n",
       "DISTRIBUTION_MODEL                       0\n",
       "dtype: int64"
      ]
     },
     "execution_count": 22,
     "metadata": {},
     "output_type": "execute_result"
    }
   ],
   "source": [
    "loans.isna().sum()"
   ]
  },
  {
   "cell_type": "markdown",
   "metadata": {},
   "source": [
    "4. First, we check the dependent variable 'STATUS' in the loans dataframe. How many unique values?"
   ]
  },
  {
   "cell_type": "code",
   "execution_count": 23,
   "metadata": {},
   "outputs": [
    {
     "data": {
      "text/plain": [
       "array(['funded', 'expired', 'refunded', 'fundRaising'], dtype=object)"
      ]
     },
     "execution_count": 23,
     "metadata": {},
     "output_type": "execute_result"
    }
   ],
   "source": [
    "loans['STATUS'].unique()"
   ]
  },
  {
   "cell_type": "markdown",
   "metadata": {},
   "source": [
    "5. How many observations for each category of 'STATUS'? (Which function we have learned can do that?)"
   ]
  },
  {
   "cell_type": "code",
   "execution_count": 24,
   "metadata": {},
   "outputs": [
    {
     "data": {
      "text/plain": [
       "funded         1978361\n",
       "expired          92416\n",
       "refunded          9182\n",
       "fundRaising       7277\n",
       "Name: STATUS, dtype: int64"
      ]
     },
     "execution_count": 24,
     "metadata": {},
     "output_type": "execute_result"
    }
   ],
   "source": [
    "loans['STATUS'].value_counts()"
   ]
  },
  {
   "cell_type": "markdown",
   "metadata": {},
   "source": [
    "6. Our purpose is to build a model that predicts whether a loan can get funded based on loan features. So, which suggests the loan is funded? Which not? Which should we ignore?<br>\n",
    "1) Delete the records with the category we can ignore.<br>\n",
    "2) Recode the three categories to two categories (funded, notfunded)<br>\n",
    "The recoded variable will be our target variable."
   ]
  },
  {
   "cell_type": "code",
   "execution_count": 25,
   "metadata": {},
   "outputs": [],
   "source": [
    "loans=loans[loans['STATUS']!='fundRaising']"
   ]
  },
  {
   "cell_type": "code",
   "execution_count": 26,
   "metadata": {},
   "outputs": [],
   "source": [
    "loans['STATUS']=loans['STATUS'].apply(lambda x:'funded' if x=='funded' else 'notfunded')"
   ]
  },
  {
   "cell_type": "code",
   "execution_count": 27,
   "metadata": {},
   "outputs": [
    {
     "data": {
      "text/plain": [
       "funded       1978361\n",
       "notfunded     101598\n",
       "Name: STATUS, dtype: int64"
      ]
     },
     "execution_count": 27,
     "metadata": {},
     "output_type": "execute_result"
    }
   ],
   "source": [
    "loans['STATUS'].value_counts()"
   ]
  },
  {
   "cell_type": "markdown",
   "metadata": {},
   "source": [
    "Preeti Chaudhry\n"
   ]
  }
 ],
 "metadata": {
  "kernelspec": {
   "display_name": "Python 3 (ipykernel)",
   "language": "python",
   "name": "python3"
  },
  "language_info": {
   "codemirror_mode": {
    "name": "ipython",
    "version": 3
   },
   "file_extension": ".py",
   "mimetype": "text/x-python",
   "name": "python",
   "nbconvert_exporter": "python",
   "pygments_lexer": "ipython3",
   "version": "3.9.12"
  }
 },
 "nbformat": 4,
 "nbformat_minor": 2
}
