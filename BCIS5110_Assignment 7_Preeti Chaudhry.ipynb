{
 "cells": [
  {
   "cell_type": "markdown",
   "metadata": {
    "id": "_6H-Ma1b6QCw"
   },
   "source": [
    "## BCIS 5110 - Assignment 7\n",
    "Q1: 3 points each sub-question. Q2: 9 points"
   ]
  },
  {
   "cell_type": "markdown",
   "metadata": {
    "id": "X2-7-Wbp6QC7"
   },
   "source": [
    "### 1. Manipulate arrays\n",
    "The purpose of the assignment is to work with n-dimensional arrays."
   ]
  },
  {
   "cell_type": "markdown",
   "metadata": {
    "id": "qIi9Duq26QC8"
   },
   "source": [
    "1.1 Create a 5X4 array with random integer between 1 and 100. The required arguments of the creation function to do this is np.random.randint(low, high, size). As usual, low is inclusive and high is exclusive. "
   ]
  },
  {
   "cell_type": "code",
   "execution_count": 1,
   "metadata": {
    "colab": {
     "base_uri": "https://localhost:8080/"
    },
    "id": "nQKpu1ia6QC9",
    "outputId": "d2730867-3b72-4ca9-97d2-fe8e0753ac4e"
   },
   "outputs": [
    {
     "name": "stdout",
     "output_type": "stream",
     "text": [
      "\n",
      "Generated 5X4 array is as shown below: \n",
      "\n",
      "[[10 81 97 47]\n",
      " [46 40 94 95]\n",
      " [10 39 86 35]\n",
      " [54 96 56 86]\n",
      " [56 49 80 34]]\n"
     ]
    }
   ],
   "source": [
    "from numpy import random\n",
    "\n",
    "random_array1=random.randint(1,101, size=(5,4))\n",
    "print(\"\\nGenerated 5X4 array is as shown below: \\n\")\n",
    "print(random_array1)"
   ]
  },
  {
   "cell_type": "markdown",
   "metadata": {
    "id": "6HZxxX9d6QC-"
   },
   "source": [
    "1.2 Change the element of second row/third column to 0"
   ]
  },
  {
   "cell_type": "code",
   "execution_count": 8,
   "metadata": {
    "colab": {
     "base_uri": "https://localhost:8080/"
    },
    "id": "o4ps-Bjw6QDA",
    "outputId": "6a0f0005-4df5-4aae-d985-16bd85ba9752"
   },
   "outputs": [
    {
     "name": "stdout",
     "output_type": "stream",
     "text": [
      "[[34 73 54 45]\n",
      " [57 98  0 74]\n",
      " [97  3 62 59]\n",
      " [71 75 69 48]\n",
      " [ 2 72 54  4]]\n"
     ]
    }
   ],
   "source": [
    "random_array1[1][2]=0\n",
    "print(random_array1)"
   ]
  },
  {
   "cell_type": "markdown",
   "metadata": {
    "id": "mx9OUzLT6QDB"
   },
   "source": [
    "1.3 Create a slice of two rows and three columns (row 2 and 3, column 2-4). Your way of creation should guarantee that changing the slice will not change the original array. Change the element at row 2 and column 2 in the slice to 100. Print the slice before and after change."
   ]
  },
  {
   "cell_type": "code",
   "execution_count": 9,
   "metadata": {
    "colab": {
     "base_uri": "https://localhost:8080/"
    },
    "id": "FbO1gSLVBYW0",
    "outputId": "e8a0e00a-6685-4f60-8d72-3236d97d0a5c"
   },
   "outputs": [
    {
     "name": "stdout",
     "output_type": "stream",
     "text": [
      "[[98  0 74]\n",
      " [ 3 62 59]]\n",
      "[[98  0 74]\n",
      " [ 3  5 59]]\n"
     ]
    }
   ],
   "source": [
    "print(random_array1[1:3, 1:4])\n",
    "random_array1[2][2]=5\n",
    "print(random_array1[1:3, 1:4])"
   ]
  },
  {
   "cell_type": "markdown",
   "metadata": {
    "id": "Y83YOhPV6QDE"
   },
   "source": [
    "1.4 Create a two-dimensional array with 5 integers in one row. You can create it your own way. <br>\n",
    "Can this array and the one created in 1.1 be added together?"
   ]
  },
  {
   "cell_type": "code",
   "execution_count": 5,
   "metadata": {
    "colab": {
     "base_uri": "https://localhost:8080/"
    },
    "id": "CYUiV31g6QDG",
    "outputId": "ed5a32d4-9ce4-4a29-8936-847207bf28c1"
   },
   "outputs": [
    {
     "name": "stdout",
     "output_type": "stream",
     "text": [
      "\n",
      "Newly created 2D array of dimention 3X5\n",
      "\n",
      "[1, 2, 3, 4, 5]\n",
      "[0, 0, 0, 0, 0]\n",
      "[0, 0, 0, 0, 0]\n"
     ]
    }
   ],
   "source": [
    "array_l = [[1,2, 3,4, 5],\n",
    "        [0,0,0,0,0],\n",
    "        [0,0,0,0,0]]\n",
    "\n",
    "print(\"\\nNewly created 2D array of dimention 3X5\\n\")\n",
    "for o in array_l:\n",
    "    print(o)"
   ]
  },
  {
   "cell_type": "markdown",
   "metadata": {
    "id": "2nXcHCP46QDG"
   },
   "source": [
    "1.5 Following 1.4, how can we make the two arrays add together?"
   ]
  },
  {
   "cell_type": "code",
   "execution_count": 7,
   "metadata": {
    "colab": {
     "base_uri": "https://localhost:8080/"
    },
    "id": "BIiVvqf_6QDH",
    "outputId": "ebd13279-5bfd-4fd3-ae9b-93c603701b23"
   },
   "outputs": [
    {
     "name": "stdout",
     "output_type": "stream",
     "text": [
      "\n",
      "first Random array Created  : \n",
      "\n",
      "[[  2  53  55  43]\n",
      " [ 12  54   5  38]\n",
      " [ 61  43  35  55]\n",
      " [ 22  12  79  53]\n",
      " [ 70 100  21  63]]\n",
      "\n",
      "Second Random array generated to add: \n",
      "\n",
      "[[71 27 93  2]\n",
      " [56  8  8 53]\n",
      " [ 7 25 67 91]\n",
      " [ 2  3 27 71]\n",
      " [59 53 12 53]]\n",
      "\n",
      "Sum of arrays : \n",
      "\n",
      "[73, 80, 148, 45]\n",
      "[68, 62, 13, 91]\n",
      "[68, 68, 102, 146]\n",
      "[24, 15, 106, 124]\n",
      "[129, 153, 33, 116]\n"
     ]
    }
   ],
   "source": [
    "from numpy import random\n",
    "\n",
    "#gerenating array with random number\n",
    "array_m=random.randint(1,101, size=(5,4))\n",
    "#printing array\n",
    "print(\"\\nfirst Random array Created  : \\n\")\n",
    "print(array_m)\n",
    "\n",
    "array_n=random.randint(1,101, size=(5,4))\n",
    "#printing array\n",
    "print(\"\\nSecond Random array generated to add: \\n\")\n",
    "print(array_n)\n",
    "\n",
    "sum_1 = [[0,0,0,0],\n",
    "        [0,0,0,0],\n",
    "        [0,0,0,0],\n",
    "        [0,0,0,0],\n",
    "        [0,0,0,0]]\n",
    "\n",
    "# iterate through rows\n",
    "for a in range(len(sum_1)):  \n",
    "# iterate through columns\n",
    "    for b in range(len(sum_1[0])):\n",
    "        sum_1[a][b] = array_m[a][b] + array_n[a][b]\n",
    "\n",
    "print(\"\\nSum of arrays : \\n\")\n",
    "for o in sum_1:\n",
    "    print(o)"
   ]
  },
  {
   "cell_type": "markdown",
   "metadata": {
    "id": "fzrE_1t66QDI"
   },
   "source": [
    "1.6 Multiply the elements (in the 5X4 array created in 1.1) that are divisable by 3 with 2."
   ]
  },
  {
   "cell_type": "code",
   "execution_count": 3,
   "metadata": {
    "colab": {
     "base_uri": "https://localhost:8080/"
    },
    "id": "zpFx6rBo6QDJ",
    "outputId": "20f28249-cc60-4526-f339-ae3c56624d99"
   },
   "outputs": [
    {
     "name": "stdout",
     "output_type": "stream",
     "text": [
      "\n",
      "Array Created in step 1.1 : \n",
      "\n",
      "[[ 64  71  32  33]\n",
      " [ 47  93  24  51]\n",
      " [ 19  77  89  83]\n",
      " [ 37  62 100  56]\n",
      " [ 11  17  72  93]]\n",
      "\n",
      "Array After the operation : \n",
      "\n",
      "[64 71 32 66]\n",
      "[ 47 186  48 102]\n",
      "[19 77 89 83]\n",
      "[ 37  62 100  56]\n",
      "[ 11  17 144 186]\n"
     ]
    }
   ],
   "source": [
    "from numpy import random\n",
    "\n",
    "#gerenating array with random number\n",
    "array_r=random.randint(1,101, size=(5,4))\n",
    "#printing array\n",
    "print(\"\\nArray Created in step 1.1 : \\n\")\n",
    "print(array_r)\n",
    "\n",
    "\n",
    "# iterate through rows\n",
    "for a in range(len(array_r)):  \n",
    "# iterate through columns\n",
    "    for b in range(len(array_r[0])):\n",
    "        if(array_r[a][b] % 3 == 0):\n",
    "            array_r[a][b] = array_r[a][b] * 2\n",
    "\n",
    "print(\"\\nArray After the operation : \\n\")\n",
    "for c in array_r:\n",
    "    print(c)"
   ]
  },
  {
   "cell_type": "markdown",
   "metadata": {
    "id": "DyIJrJTB6QDK"
   },
   "source": [
    "1.7 Calculate the mean and the standard deviation of each column using aggregation functions of the array from 1.1. Use the mean and std to get the standardized value of each element using the formula: (x - mean)/std, where x is the element. Tips: Which axis should we use?"
   ]
  },
  {
   "cell_type": "code",
   "execution_count": 2,
   "metadata": {
    "colab": {
     "base_uri": "https://localhost:8080/"
    },
    "id": "iMmIArJF6QDL",
    "outputId": "cfa7a00e-7af8-48da-9fde-e36ece0fed46"
   },
   "outputs": [
    {
     "name": "stdout",
     "output_type": "stream",
     "text": [
      "\n",
      "Array Created in step 1.1 : \n",
      "\n",
      "[[58 16 43 15]\n",
      " [27 66 30 18]\n",
      " [50 94 94 12]\n",
      " [98 12 90 22]\n",
      " [26 81 50 37]]\n",
      "\n",
      "\n",
      "Row  0  : Mean ->  33  , Standard deviation ->  21.118712081942874\n",
      "Row  1  : Mean ->  35  , Standard deviation ->  21.118712081942874\n",
      "Row  2  : Mean ->  62  , Standard deviation ->  39.534794801541594\n",
      "Row  3  : Mean ->  55  , Standard deviation ->  44.75488800120049\n",
      "Row  4  : Mean ->  48  , Standard deviation ->  23.769728648009426\n",
      "\n",
      "Standardized value of each elements : \n",
      "\n",
      "[1.1837843095259462, -0.8049733304776433, 0.47351372381037843, -0.8523247028586811]\n",
      "[-0.37881097904830274, 1.467892543812173, -0.23675686190518921, -0.8049733304776433]\n",
      "[-0.3035300944456168, 0.8094135851883114, 0.8094135851883114, -1.2647087268567367]\n",
      "[0.9607889086628165, -0.9607889086628165, 0.7820374837953157, -0.7373496275784406]\n",
      "[-0.9255469562056767, 1.3883204343085151, 0.08414063238233425, -0.46277347810283836]\n"
     ]
    }
   ],
   "source": [
    "from numpy import random\n",
    "import statistics \n",
    "\n",
    "\n",
    "array_p=random.randint(1,101, size=(5,4))\n",
    "print(\"\\nArray Created in step 1.1 : \\n\")\n",
    "print(array_p)\n",
    "print(\"\\n\")\n",
    "\n",
    "array_q = [[0,0,0,0],\n",
    "        [0,0,0,0],\n",
    "        [0,0,0,0],\n",
    "        [0,0,0,0],\n",
    "        [0,0,0,0]]\n",
    "\n",
    "for var_x in range(len(array_p)):  \n",
    "    mean=statistics.mean(array_p[var_x])\n",
    "    stdev=statistics.stdev(array_p[var_x])\n",
    "    print(\"Row \",var_x,\" : Mean -> \",mean,\" , Standard deviation -> \",stdev)\n",
    "    for var_y in range(len(array_p[var_x])): \n",
    "        array_q[var_x][var_y]=( array_p[var_x][var_y] -mean ) / stdev\n",
    "\n",
    "print(\"\\nStandardized value of each elements : \\n\")\n",
    "for var_z in array_q:\n",
    "    print(var_z)"
   ]
  },
  {
   "cell_type": "markdown",
   "metadata": {
    "id": "nMJKTTlk6QDL"
   },
   "source": [
    "### 2. Write a Python function to implement a simple encryption technique.<br>\n",
    "\n",
    "In this encryption, each letter in the plaintext is replaced by a letter some fixed number of positions down the alphabet. For example, with a left shift of 3, D would be replaced by A, E would become B, and so on. <br>\n",
    "Your function takes two arguments, the original words and the number of steps to shift (Left shift negative and right shift positive).\n",
    "\n",
    "Sample input: 'apple', -3<br>\n",
    "Output with left shift of 3: 'xmmib'\n",
    "\n",
    "You may define the alphabet as a list. Each letter has its position.\n",
    "Left shift of 3 means index - 3 and right shift means index + 3.\n",
    "\n",
    "Tip: How can you make sure the index is between 0-25? Negative index can also be used.\n"
   ]
  },
  {
   "cell_type": "code",
   "execution_count": 1,
   "metadata": {
    "colab": {
     "base_uri": "https://localhost:8080/"
    },
    "id": "w8sYVnCK6QDM",
    "outputId": "501f44f2-5777-40a3-986e-018b66ffc107"
   },
   "outputs": [
    {
     "name": "stdout",
     "output_type": "stream",
     "text": [
      "Enter string: apple\n",
      "Enter shift: -3\n",
      "xmmib\n"
     ]
    }
   ],
   "source": [
    "plain_txt = \"abcdefghijklmnopqrstuvwxyz\"\n",
    "org_strng = input(\"Enter string: \")\n",
    "new_strng = \"\"\n",
    "caesar_shft = int(input(\"Enter shift: \"))\n",
    "for var1 in range(0,len(org_strng)):\n",
    "  position = plain_txt.index(org_strng[var1])\n",
    "  new_position = (position + caesar_shft) % 26\n",
    "  new_strng += plain_txt[new_position]\n",
    "\n",
    "print(new_strng)"
   ]
  },
  {
   "cell_type": "code",
   "execution_count": null,
   "metadata": {},
   "outputs": [],
   "source": [
    "\n"
   ]
  },
  {
   "cell_type": "code",
   "execution_count": null,
   "metadata": {},
   "outputs": [],
   "source": [
    "Preeti Chaudhry"
   ]
  },
  {
   "cell_type": "code",
   "execution_count": null,
   "metadata": {},
   "outputs": [],
   "source": []
  }
 ],
 "metadata": {
  "colab": {
   "collapsed_sections": [],
   "provenance": []
  },
  "kernelspec": {
   "display_name": "Python 3 (ipykernel)",
   "language": "python",
   "name": "python3"
  },
  "language_info": {
   "codemirror_mode": {
    "name": "ipython",
    "version": 3
   },
   "file_extension": ".py",
   "mimetype": "text/x-python",
   "name": "python",
   "nbconvert_exporter": "python",
   "pygments_lexer": "ipython3",
   "version": "3.9.12"
  }
 },
 "nbformat": 4,
 "nbformat_minor": 1
}
