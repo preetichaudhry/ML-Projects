{
  "cells": [
    {
      "cell_type": "markdown",
      "metadata": {
        "id": "QgaVqUJfV_p6"
      },
      "source": [
        "### BCIS 5110 - Assignment 2"
      ]
    },
    {
      "cell_type": "markdown",
      "metadata": {
        "id": "gWyDleKCV_p-"
      },
      "source": [
        "Each Question gives 8 points."
      ]
    },
    {
      "cell_type": "markdown",
      "metadata": {
        "id": "VFYLiLLLV_p-"
      },
      "source": [
        "1. Define a list of numbers; add the first and the second to the last numbers together"
      ]
    },
    {
      "cell_type": "code",
      "execution_count": 1,
      "metadata": {
        "colab": {
          "base_uri": "https://localhost:8080/"
        },
        "id": "_R5UohRlV_p_",
        "outputId": "828603b0-2f3f-497b-cff7-df62538d7815"
      },
      "outputs": [
        {
          "output_type": "stream",
          "name": "stdout",
          "text": [
            "11\n"
          ]
        }
      ],
      "source": [
        "list_of_numbers=[1,2,3,4,5,6,7,8]\n",
        "sum=list_of_numbers[0]+list_of_numbers[1]+list_of_numbers[-1]\n",
        "print(sum)"
      ]
    },
    {
      "cell_type": "markdown",
      "metadata": {
        "id": "Xydi4JgFV_p_"
      },
      "source": [
        "2. Define a list of colors. Print the last item of every three items."
      ]
    },
    {
      "cell_type": "code",
      "execution_count": 17,
      "metadata": {
        "colab": {
          "base_uri": "https://localhost:8080/"
        },
        "id": "KKWDcD8KV_qA",
        "outputId": "098ca694-868e-4c7c-ae89-a8b5cb7f295d"
      },
      "outputs": [
        {
          "output_type": "stream",
          "name": "stdout",
          "text": [
            "n\n",
            "e\n"
          ]
        }
      ],
      "source": [
        "list_of_colors=['brown','pink','black','blue','red','yellow']\n",
        "for i in range(len(list_of_colors)):\n",
        "  if i%3==0:\n",
        "    print(list_of_colors[i][-1])"
      ]
    },
    {
      "cell_type": "code",
      "source": [],
      "metadata": {
        "id": "27_zLXRpaU7A"
      },
      "execution_count": null,
      "outputs": []
    },
    {
      "cell_type": "markdown",
      "metadata": {
        "id": "qyTWym7BV_qA"
      },
      "source": [
        "3. Ask the user to input a number. Use the number as the radius to calculate the area of circle and print the result. Round to two decimal points."
      ]
    },
    {
      "cell_type": "code",
      "execution_count": 2,
      "metadata": {
        "colab": {
          "base_uri": "https://localhost:8080/"
        },
        "id": "Rv6iVsYUV_qA",
        "outputId": "5f90ef35-f357-4a9c-bbd6-b9614f6b8901"
      },
      "outputs": [
        {
          "output_type": "stream",
          "name": "stdout",
          "text": [
            "Input a number: 5\n",
            "The area of circle is: 78.55\n"
          ]
        }
      ],
      "source": [
        "number=int(input(\"Input a number: \"))\n",
        "area=round(3.142*(number*number),2)\n",
        "print('The area of circle is:', area)"
      ]
    },
    {
      "cell_type": "markdown",
      "metadata": {
        "id": "KsKgjmHMV_qB"
      },
      "source": [
        "4. Assign a string. Switch the first character and the last character of the string (Hint: using slicing)"
      ]
    },
    {
      "cell_type": "code",
      "execution_count": 4,
      "metadata": {
        "colab": {
          "base_uri": "https://localhost:8080/"
        },
        "id": "CFtgyum1V_qC",
        "outputId": "8b018a28-cad3-4eb7-aff4-9c8c46af7992"
      },
      "outputs": [
        {
          "output_type": "stream",
          "name": "stdout",
          "text": [
            "sniversity_of_north_texaU\n"
          ]
        }
      ],
      "source": [
        "string_value='university_of_north_texas'\n",
        "start=string_value[0]\n",
        "end=string_value[-1]\n",
        "string_value=end+string_value[1:-1]+start\n",
        "print(string_value)\n"
      ]
    },
    {
      "cell_type": "markdown",
      "metadata": {
        "id": "FyfvqdvvV_qC"
      },
      "source": [
        "5. Ask the user to input a word and an integer n (n should be less than the length of the word). Remove the nth character from the word."
      ]
    },
    {
      "cell_type": "code",
      "source": [
        "word_input=input('Input a word:')\n",
        "n=int(input('Input an integer of length less than '+str(len(word_input))+':'))\n",
        "word_input=word_input[0:n-1]+word_input[n:]\n",
        "print('final word after removing the nth character is: ',word_input)"
      ],
      "metadata": {
        "colab": {
          "base_uri": "https://localhost:8080/"
        },
        "id": "ehq4F43aXrYM",
        "outputId": "8de0afc2-f62b-43f0-a865-c23c4501f02d"
      },
      "execution_count": 13,
      "outputs": [
        {
          "output_type": "stream",
          "name": "stdout",
          "text": [
            "Input a word:shubham\n",
            "Input an integer of length less than 7:5\n",
            "final word after removing the nth character is:  shubam\n"
          ]
        }
      ]
    }
  ],
  "metadata": {
    "kernelspec": {
      "display_name": "Python 3",
      "language": "python",
      "name": "python3"
    },
    "language_info": {
      "codemirror_mode": {
        "name": "ipython",
        "version": 3
      },
      "file_extension": ".py",
      "mimetype": "text/x-python",
      "name": "python",
      "nbconvert_exporter": "python",
      "pygments_lexer": "ipython3",
      "version": "3.8.5"
    },
    "colab": {
      "provenance": [],
      "collapsed_sections": []
    }
  },
  "nbformat": 4,
  "nbformat_minor": 0
}