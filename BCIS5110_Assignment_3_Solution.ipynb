{
  "cells": [
    {
      "cell_type": "markdown",
      "id": "5caddfc0",
      "metadata": {
        "id": "5caddfc0"
      },
      "source": [
        "### BCIS 5110 - Assignment 3\n",
        "Write programs to answer the following questions. 10 points each."
      ]
    },
    {
      "cell_type": "markdown",
      "id": "560ecab7",
      "metadata": {
        "id": "560ecab7"
      },
      "source": [
        "1. Using conditionals, we can make our first program (asking name and age and returning welcome messages) into a guess-my-age game. Your program will:<br>\n",
        "    a. Ask the user to guess your age<br>\n",
        "    b. It will do the following based on the user answer: \n",
        "        if it is correct, print a congratulating message; \n",
        "        if it is larger than your age, print a message like \"Try lower\"; \n",
        "        if it is smaller than your age, print a message like \"Try higher.\" "
      ]
    },
    {
      "cell_type": "code",
      "execution_count": null,
      "id": "52d2af80",
      "metadata": {
        "colab": {
          "base_uri": "https://localhost:8080/"
        },
        "id": "52d2af80",
        "outputId": "fe21bfc0-2cce-4f9a-bb14-f94cf3119b39"
      },
      "outputs": [
        {
          "output_type": "stream",
          "name": "stdout",
          "text": [
            "Please enter a number to guess my age:30\n",
            "Try lower i am younger\n"
          ]
        }
      ],
      "source": [
        "age=int(input('Please enter a number to guess my age:'))\n",
        "actual_age=28\n",
        "if age==actual_age:\n",
        "  print('congratulating you guessed it correctly')\n",
        "elif age>actual_age:\n",
        "  print('Try lower i am younger')\n",
        "else:\n",
        "  print('Try higher i am older')"
      ]
    },
    {
      "cell_type": "markdown",
      "id": "2f0e98e0",
      "metadata": {
        "id": "2f0e98e0"
      },
      "source": [
        "2. In analytics, sometimes we need to transform variables. For example, a variable \"Education\" is measured as the number of years of education received. In some cases, we want to measure education as category such as \"Graduate/Professional\", \"College\", \"Associate degree\", \"High School\", \"Below High school\" etc.\n",
        "Write a program to transform the number of years (take a number from the user) into categories. You may define the cut-off years (e.g., <13 --> \"Below High School\". Make your own rules as long as they are reasonable. You will not be graded on whether the numbers or categories are exactly the same as mine.).<br>\n",
        "Example: input - 17; output - \"College\"."
      ]
    },
    {
      "cell_type": "code",
      "execution_count": 8,
      "id": "23b55d5d",
      "metadata": {
        "id": "23b55d5d",
        "colab": {
          "base_uri": "https://localhost:8080/"
        },
        "outputId": "df0c603c-1a90-4c05-dabb-a5e791521965"
      },
      "outputs": [
        {
          "output_type": "stream",
          "name": "stdout",
          "text": [
            "Enter a number:18\n",
            "Associate degree\n"
          ]
        }
      ],
      "source": [
        "numb_of_years=int(input(\"Enter a number:\"))\n",
        "if numb_of_years<=13:\n",
        "  print(\"Below High school\")\n",
        "elif numb_of_years<=17:\n",
        "  print(\"High School\")\n",
        "elif numb_of_years<=19:\n",
        "  print(\"Associate degree\")\n",
        "elif numb_of_years<=23:\n",
        "  print(\"College\")\n",
        "else:\n",
        "  print(\"Graduate/Professional\")\n"
      ]
    },
    {
      "cell_type": "markdown",
      "id": "bd62ec51",
      "metadata": {
        "id": "bd62ec51"
      },
      "source": [
        "3. Write a program that sorts three given numbers from smallest to largest. <br>\n",
        "    a. Ask the user to input three numbers, one at a time, and save the numbers to a list.<br>\n",
        "    b. Your program refers to each number using index and do the comparisons. Use nested conditions, not loops or sorting functions. <br>\n",
        "    Example: input - 3, 98, 73<br>\n",
        "    output - [3, 73, 98]"
      ]
    },
    {
      "cell_type": "code",
      "execution_count": 6,
      "id": "18a21bda",
      "metadata": {
        "colab": {
          "base_uri": "https://localhost:8080/"
        },
        "id": "18a21bda",
        "outputId": "972fe852-d7c2-4cd9-c5b0-4747fc5b68a0"
      },
      "outputs": [
        {
          "output_type": "stream",
          "name": "stdout",
          "text": [
            "Input the numbers one at a time:3\n",
            "Input the numbers one at a time:7\n",
            "Input the numbers one at a time:5\n",
            "[3, 5, 7]\n"
          ]
        }
      ],
      "source": [
        "list_of_numbers=[]\n",
        "for i in range(3):\n",
        "  input_number=int(input(\"Input the numbers one at a time:\"))\n",
        "  list_of_numbers.append(input_number)\n",
        "if list_of_numbers[0]>list_of_numbers[1]:\n",
        "  temp=list_of_numbers[0]\n",
        "  list_of_numbers[0]=list_of_numbers[1]\n",
        "  list_of_numbers[1]=temp\n",
        "if list_of_numbers[0]>list_of_numbers[2]:\n",
        "  temp=list_of_numbers[0]\n",
        "  list_of_numbers[0]=list_of_numbers[2]\n",
        "  list_of_numbers[2]=temp\n",
        "if list_of_numbers[1]>list_of_numbers[2]:\n",
        "  temp=list_of_numbers[1]\n",
        "  list_of_numbers[1]=list_of_numbers[2]\n",
        "  list_of_numbers[2]=temp\n",
        "\n",
        "print(list_of_numbers)"
      ]
    },
    {
      "cell_type": "code",
      "source": [
        "75"
      ],
      "metadata": {
        "colab": {
          "base_uri": "https://localhost:8080/"
        },
        "id": "40dZ5zesK03C",
        "outputId": "5cf8e439-c0c2-4e2c-fcce-934e26ed6a6b"
      },
      "id": "40dZ5zesK03C",
      "execution_count": 5,
      "outputs": [
        {
          "output_type": "execute_result",
          "data": {
            "text/plain": [
              "75"
            ]
          },
          "metadata": {},
          "execution_count": 5
        }
      ]
    },
    {
      "cell_type": "code",
      "source": [],
      "metadata": {
        "id": "N6Pm7vZbK6_2"
      },
      "id": "N6Pm7vZbK6_2",
      "execution_count": 5,
      "outputs": []
    }
  ],
  "metadata": {
    "kernelspec": {
      "display_name": "Python 3",
      "language": "python",
      "name": "python3"
    },
    "language_info": {
      "codemirror_mode": {
        "name": "ipython",
        "version": 3
      },
      "file_extension": ".py",
      "mimetype": "text/x-python",
      "name": "python",
      "nbconvert_exporter": "python",
      "pygments_lexer": "ipython3",
      "version": "3.8.8"
    },
    "colab": {
      "provenance": [],
      "collapsed_sections": []
    }
  },
  "nbformat": 4,
  "nbformat_minor": 5
}